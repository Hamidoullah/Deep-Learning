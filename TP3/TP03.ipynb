{
  "nbformat": 4,
  "nbformat_minor": 0,
  "metadata": {
    "colab": {
      "provenance": [],
      "gpuType": "T4"
    },
    "kernelspec": {
      "name": "python3",
      "display_name": "Python 3"
    },
    "language_info": {
      "name": "python"
    },
    "accelerator": "GPU",
    "widgets": {
      "application/vnd.jupyter.widget-state+json": {
        "c17fde7691fc4e479c749c3fface66b7": {
          "model_module": "@jupyter-widgets/controls",
          "model_name": "HBoxModel",
          "model_module_version": "1.5.0",
          "state": {
            "_dom_classes": [],
            "_model_module": "@jupyter-widgets/controls",
            "_model_module_version": "1.5.0",
            "_model_name": "HBoxModel",
            "_view_count": null,
            "_view_module": "@jupyter-widgets/controls",
            "_view_module_version": "1.5.0",
            "_view_name": "HBoxView",
            "box_style": "",
            "children": [
              "IPY_MODEL_5b21a3200e01471a8639774faa093eca",
              "IPY_MODEL_5163752db5664eb9a176f1f89755d90f",
              "IPY_MODEL_faed435489b445f6b65e40a1aacb40e6"
            ],
            "layout": "IPY_MODEL_22c6cbfa68224b6aa754a6dc2fc4a4d1"
          }
        },
        "5b21a3200e01471a8639774faa093eca": {
          "model_module": "@jupyter-widgets/controls",
          "model_name": "HTMLModel",
          "model_module_version": "1.5.0",
          "state": {
            "_dom_classes": [],
            "_model_module": "@jupyter-widgets/controls",
            "_model_module_version": "1.5.0",
            "_model_name": "HTMLModel",
            "_view_count": null,
            "_view_module": "@jupyter-widgets/controls",
            "_view_module_version": "1.5.0",
            "_view_name": "HTMLView",
            "description": "",
            "description_tooltip": null,
            "layout": "IPY_MODEL_7c026a57ecf846bd8a511d0a90709f34",
            "placeholder": "​",
            "style": "IPY_MODEL_9404d0a7f96c4714b001ac49556c9129",
            "value": "Dl Completed...: 100%"
          }
        },
        "5163752db5664eb9a176f1f89755d90f": {
          "model_module": "@jupyter-widgets/controls",
          "model_name": "FloatProgressModel",
          "model_module_version": "1.5.0",
          "state": {
            "_dom_classes": [],
            "_model_module": "@jupyter-widgets/controls",
            "_model_module_version": "1.5.0",
            "_model_name": "FloatProgressModel",
            "_view_count": null,
            "_view_module": "@jupyter-widgets/controls",
            "_view_module_version": "1.5.0",
            "_view_name": "ProgressView",
            "bar_style": "success",
            "description": "",
            "description_tooltip": null,
            "layout": "IPY_MODEL_c328422b552d48d58ca1f324d702f00c",
            "max": 1,
            "min": 0,
            "orientation": "horizontal",
            "style": "IPY_MODEL_0f0f9c6f40e14cf8a5915ba3412f8c7b",
            "value": 1
          }
        },
        "faed435489b445f6b65e40a1aacb40e6": {
          "model_module": "@jupyter-widgets/controls",
          "model_name": "HTMLModel",
          "model_module_version": "1.5.0",
          "state": {
            "_dom_classes": [],
            "_model_module": "@jupyter-widgets/controls",
            "_model_module_version": "1.5.0",
            "_model_name": "HTMLModel",
            "_view_count": null,
            "_view_module": "@jupyter-widgets/controls",
            "_view_module_version": "1.5.0",
            "_view_name": "HTMLView",
            "description": "",
            "description_tooltip": null,
            "layout": "IPY_MODEL_ce589f34fcc6493aa3fef701276c1fc4",
            "placeholder": "​",
            "style": "IPY_MODEL_28f61c58c1414cf6b6f3fccf9b166692",
            "value": " 1/1 [00:15&lt;00:00, 15.22s/ url]"
          }
        },
        "22c6cbfa68224b6aa754a6dc2fc4a4d1": {
          "model_module": "@jupyter-widgets/base",
          "model_name": "LayoutModel",
          "model_module_version": "1.2.0",
          "state": {
            "_model_module": "@jupyter-widgets/base",
            "_model_module_version": "1.2.0",
            "_model_name": "LayoutModel",
            "_view_count": null,
            "_view_module": "@jupyter-widgets/base",
            "_view_module_version": "1.2.0",
            "_view_name": "LayoutView",
            "align_content": null,
            "align_items": null,
            "align_self": null,
            "border": null,
            "bottom": null,
            "display": null,
            "flex": null,
            "flex_flow": null,
            "grid_area": null,
            "grid_auto_columns": null,
            "grid_auto_flow": null,
            "grid_auto_rows": null,
            "grid_column": null,
            "grid_gap": null,
            "grid_row": null,
            "grid_template_areas": null,
            "grid_template_columns": null,
            "grid_template_rows": null,
            "height": null,
            "justify_content": null,
            "justify_items": null,
            "left": null,
            "margin": null,
            "max_height": null,
            "max_width": null,
            "min_height": null,
            "min_width": null,
            "object_fit": null,
            "object_position": null,
            "order": null,
            "overflow": null,
            "overflow_x": null,
            "overflow_y": null,
            "padding": null,
            "right": null,
            "top": null,
            "visibility": null,
            "width": null
          }
        },
        "7c026a57ecf846bd8a511d0a90709f34": {
          "model_module": "@jupyter-widgets/base",
          "model_name": "LayoutModel",
          "model_module_version": "1.2.0",
          "state": {
            "_model_module": "@jupyter-widgets/base",
            "_model_module_version": "1.2.0",
            "_model_name": "LayoutModel",
            "_view_count": null,
            "_view_module": "@jupyter-widgets/base",
            "_view_module_version": "1.2.0",
            "_view_name": "LayoutView",
            "align_content": null,
            "align_items": null,
            "align_self": null,
            "border": null,
            "bottom": null,
            "display": null,
            "flex": null,
            "flex_flow": null,
            "grid_area": null,
            "grid_auto_columns": null,
            "grid_auto_flow": null,
            "grid_auto_rows": null,
            "grid_column": null,
            "grid_gap": null,
            "grid_row": null,
            "grid_template_areas": null,
            "grid_template_columns": null,
            "grid_template_rows": null,
            "height": null,
            "justify_content": null,
            "justify_items": null,
            "left": null,
            "margin": null,
            "max_height": null,
            "max_width": null,
            "min_height": null,
            "min_width": null,
            "object_fit": null,
            "object_position": null,
            "order": null,
            "overflow": null,
            "overflow_x": null,
            "overflow_y": null,
            "padding": null,
            "right": null,
            "top": null,
            "visibility": null,
            "width": null
          }
        },
        "9404d0a7f96c4714b001ac49556c9129": {
          "model_module": "@jupyter-widgets/controls",
          "model_name": "DescriptionStyleModel",
          "model_module_version": "1.5.0",
          "state": {
            "_model_module": "@jupyter-widgets/controls",
            "_model_module_version": "1.5.0",
            "_model_name": "DescriptionStyleModel",
            "_view_count": null,
            "_view_module": "@jupyter-widgets/base",
            "_view_module_version": "1.2.0",
            "_view_name": "StyleView",
            "description_width": ""
          }
        },
        "c328422b552d48d58ca1f324d702f00c": {
          "model_module": "@jupyter-widgets/base",
          "model_name": "LayoutModel",
          "model_module_version": "1.2.0",
          "state": {
            "_model_module": "@jupyter-widgets/base",
            "_model_module_version": "1.2.0",
            "_model_name": "LayoutModel",
            "_view_count": null,
            "_view_module": "@jupyter-widgets/base",
            "_view_module_version": "1.2.0",
            "_view_name": "LayoutView",
            "align_content": null,
            "align_items": null,
            "align_self": null,
            "border": null,
            "bottom": null,
            "display": null,
            "flex": null,
            "flex_flow": null,
            "grid_area": null,
            "grid_auto_columns": null,
            "grid_auto_flow": null,
            "grid_auto_rows": null,
            "grid_column": null,
            "grid_gap": null,
            "grid_row": null,
            "grid_template_areas": null,
            "grid_template_columns": null,
            "grid_template_rows": null,
            "height": null,
            "justify_content": null,
            "justify_items": null,
            "left": null,
            "margin": null,
            "max_height": null,
            "max_width": null,
            "min_height": null,
            "min_width": null,
            "object_fit": null,
            "object_position": null,
            "order": null,
            "overflow": null,
            "overflow_x": null,
            "overflow_y": null,
            "padding": null,
            "right": null,
            "top": null,
            "visibility": null,
            "width": "20px"
          }
        },
        "0f0f9c6f40e14cf8a5915ba3412f8c7b": {
          "model_module": "@jupyter-widgets/controls",
          "model_name": "ProgressStyleModel",
          "model_module_version": "1.5.0",
          "state": {
            "_model_module": "@jupyter-widgets/controls",
            "_model_module_version": "1.5.0",
            "_model_name": "ProgressStyleModel",
            "_view_count": null,
            "_view_module": "@jupyter-widgets/base",
            "_view_module_version": "1.2.0",
            "_view_name": "StyleView",
            "bar_color": null,
            "description_width": ""
          }
        },
        "ce589f34fcc6493aa3fef701276c1fc4": {
          "model_module": "@jupyter-widgets/base",
          "model_name": "LayoutModel",
          "model_module_version": "1.2.0",
          "state": {
            "_model_module": "@jupyter-widgets/base",
            "_model_module_version": "1.2.0",
            "_model_name": "LayoutModel",
            "_view_count": null,
            "_view_module": "@jupyter-widgets/base",
            "_view_module_version": "1.2.0",
            "_view_name": "LayoutView",
            "align_content": null,
            "align_items": null,
            "align_self": null,
            "border": null,
            "bottom": null,
            "display": null,
            "flex": null,
            "flex_flow": null,
            "grid_area": null,
            "grid_auto_columns": null,
            "grid_auto_flow": null,
            "grid_auto_rows": null,
            "grid_column": null,
            "grid_gap": null,
            "grid_row": null,
            "grid_template_areas": null,
            "grid_template_columns": null,
            "grid_template_rows": null,
            "height": null,
            "justify_content": null,
            "justify_items": null,
            "left": null,
            "margin": null,
            "max_height": null,
            "max_width": null,
            "min_height": null,
            "min_width": null,
            "object_fit": null,
            "object_position": null,
            "order": null,
            "overflow": null,
            "overflow_x": null,
            "overflow_y": null,
            "padding": null,
            "right": null,
            "top": null,
            "visibility": null,
            "width": null
          }
        },
        "28f61c58c1414cf6b6f3fccf9b166692": {
          "model_module": "@jupyter-widgets/controls",
          "model_name": "DescriptionStyleModel",
          "model_module_version": "1.5.0",
          "state": {
            "_model_module": "@jupyter-widgets/controls",
            "_model_module_version": "1.5.0",
            "_model_name": "DescriptionStyleModel",
            "_view_count": null,
            "_view_module": "@jupyter-widgets/base",
            "_view_module_version": "1.2.0",
            "_view_name": "StyleView",
            "description_width": ""
          }
        },
        "5eb7affe1dad48418b913476b8b77a80": {
          "model_module": "@jupyter-widgets/controls",
          "model_name": "HBoxModel",
          "model_module_version": "1.5.0",
          "state": {
            "_dom_classes": [],
            "_model_module": "@jupyter-widgets/controls",
            "_model_module_version": "1.5.0",
            "_model_name": "HBoxModel",
            "_view_count": null,
            "_view_module": "@jupyter-widgets/controls",
            "_view_module_version": "1.5.0",
            "_view_name": "HBoxView",
            "box_style": "",
            "children": [
              "IPY_MODEL_6c0d6f8b02e54ca18f3b72bbf861cf9c",
              "IPY_MODEL_32598b1eaf884b98985bbb53cfada21a",
              "IPY_MODEL_742a75014f794c608538329d4e46baab"
            ],
            "layout": "IPY_MODEL_c85fd8dfb7af45b28e66b30fbce4a595"
          }
        },
        "6c0d6f8b02e54ca18f3b72bbf861cf9c": {
          "model_module": "@jupyter-widgets/controls",
          "model_name": "HTMLModel",
          "model_module_version": "1.5.0",
          "state": {
            "_dom_classes": [],
            "_model_module": "@jupyter-widgets/controls",
            "_model_module_version": "1.5.0",
            "_model_name": "HTMLModel",
            "_view_count": null,
            "_view_module": "@jupyter-widgets/controls",
            "_view_module_version": "1.5.0",
            "_view_name": "HTMLView",
            "description": "",
            "description_tooltip": null,
            "layout": "IPY_MODEL_cda446a51b6f4788b4705e32ac2424ac",
            "placeholder": "​",
            "style": "IPY_MODEL_3ddca2a7ab5c4e76a822ced311f91877",
            "value": "Dl Size...: 100%"
          }
        },
        "32598b1eaf884b98985bbb53cfada21a": {
          "model_module": "@jupyter-widgets/controls",
          "model_name": "FloatProgressModel",
          "model_module_version": "1.5.0",
          "state": {
            "_dom_classes": [],
            "_model_module": "@jupyter-widgets/controls",
            "_model_module_version": "1.5.0",
            "_model_name": "FloatProgressModel",
            "_view_count": null,
            "_view_module": "@jupyter-widgets/controls",
            "_view_module_version": "1.5.0",
            "_view_name": "ProgressView",
            "bar_style": "success",
            "description": "",
            "description_tooltip": null,
            "layout": "IPY_MODEL_908a582e91644a3aa9ee0da7d303ff6b",
            "max": 1,
            "min": 0,
            "orientation": "horizontal",
            "style": "IPY_MODEL_f3d2be9218e94a5e93d7c837e4e5a431",
            "value": 1
          }
        },
        "742a75014f794c608538329d4e46baab": {
          "model_module": "@jupyter-widgets/controls",
          "model_name": "HTMLModel",
          "model_module_version": "1.5.0",
          "state": {
            "_dom_classes": [],
            "_model_module": "@jupyter-widgets/controls",
            "_model_module_version": "1.5.0",
            "_model_name": "HTMLModel",
            "_view_count": null,
            "_view_module": "@jupyter-widgets/controls",
            "_view_module_version": "1.5.0",
            "_view_name": "HTMLView",
            "description": "",
            "description_tooltip": null,
            "layout": "IPY_MODEL_c59468f110e74509896ffe6d2ede2ea8",
            "placeholder": "​",
            "style": "IPY_MODEL_3e940b4937814a9d83ab4e9f5f864bf6",
            "value": " 786/786 [00:15&lt;00:00, 44.50 MiB/s]"
          }
        },
        "c85fd8dfb7af45b28e66b30fbce4a595": {
          "model_module": "@jupyter-widgets/base",
          "model_name": "LayoutModel",
          "model_module_version": "1.2.0",
          "state": {
            "_model_module": "@jupyter-widgets/base",
            "_model_module_version": "1.2.0",
            "_model_name": "LayoutModel",
            "_view_count": null,
            "_view_module": "@jupyter-widgets/base",
            "_view_module_version": "1.2.0",
            "_view_name": "LayoutView",
            "align_content": null,
            "align_items": null,
            "align_self": null,
            "border": null,
            "bottom": null,
            "display": null,
            "flex": null,
            "flex_flow": null,
            "grid_area": null,
            "grid_auto_columns": null,
            "grid_auto_flow": null,
            "grid_auto_rows": null,
            "grid_column": null,
            "grid_gap": null,
            "grid_row": null,
            "grid_template_areas": null,
            "grid_template_columns": null,
            "grid_template_rows": null,
            "height": null,
            "justify_content": null,
            "justify_items": null,
            "left": null,
            "margin": null,
            "max_height": null,
            "max_width": null,
            "min_height": null,
            "min_width": null,
            "object_fit": null,
            "object_position": null,
            "order": null,
            "overflow": null,
            "overflow_x": null,
            "overflow_y": null,
            "padding": null,
            "right": null,
            "top": null,
            "visibility": null,
            "width": null
          }
        },
        "cda446a51b6f4788b4705e32ac2424ac": {
          "model_module": "@jupyter-widgets/base",
          "model_name": "LayoutModel",
          "model_module_version": "1.2.0",
          "state": {
            "_model_module": "@jupyter-widgets/base",
            "_model_module_version": "1.2.0",
            "_model_name": "LayoutModel",
            "_view_count": null,
            "_view_module": "@jupyter-widgets/base",
            "_view_module_version": "1.2.0",
            "_view_name": "LayoutView",
            "align_content": null,
            "align_items": null,
            "align_self": null,
            "border": null,
            "bottom": null,
            "display": null,
            "flex": null,
            "flex_flow": null,
            "grid_area": null,
            "grid_auto_columns": null,
            "grid_auto_flow": null,
            "grid_auto_rows": null,
            "grid_column": null,
            "grid_gap": null,
            "grid_row": null,
            "grid_template_areas": null,
            "grid_template_columns": null,
            "grid_template_rows": null,
            "height": null,
            "justify_content": null,
            "justify_items": null,
            "left": null,
            "margin": null,
            "max_height": null,
            "max_width": null,
            "min_height": null,
            "min_width": null,
            "object_fit": null,
            "object_position": null,
            "order": null,
            "overflow": null,
            "overflow_x": null,
            "overflow_y": null,
            "padding": null,
            "right": null,
            "top": null,
            "visibility": null,
            "width": null
          }
        },
        "3ddca2a7ab5c4e76a822ced311f91877": {
          "model_module": "@jupyter-widgets/controls",
          "model_name": "DescriptionStyleModel",
          "model_module_version": "1.5.0",
          "state": {
            "_model_module": "@jupyter-widgets/controls",
            "_model_module_version": "1.5.0",
            "_model_name": "DescriptionStyleModel",
            "_view_count": null,
            "_view_module": "@jupyter-widgets/base",
            "_view_module_version": "1.2.0",
            "_view_name": "StyleView",
            "description_width": ""
          }
        },
        "908a582e91644a3aa9ee0da7d303ff6b": {
          "model_module": "@jupyter-widgets/base",
          "model_name": "LayoutModel",
          "model_module_version": "1.2.0",
          "state": {
            "_model_module": "@jupyter-widgets/base",
            "_model_module_version": "1.2.0",
            "_model_name": "LayoutModel",
            "_view_count": null,
            "_view_module": "@jupyter-widgets/base",
            "_view_module_version": "1.2.0",
            "_view_name": "LayoutView",
            "align_content": null,
            "align_items": null,
            "align_self": null,
            "border": null,
            "bottom": null,
            "display": null,
            "flex": null,
            "flex_flow": null,
            "grid_area": null,
            "grid_auto_columns": null,
            "grid_auto_flow": null,
            "grid_auto_rows": null,
            "grid_column": null,
            "grid_gap": null,
            "grid_row": null,
            "grid_template_areas": null,
            "grid_template_columns": null,
            "grid_template_rows": null,
            "height": null,
            "justify_content": null,
            "justify_items": null,
            "left": null,
            "margin": null,
            "max_height": null,
            "max_width": null,
            "min_height": null,
            "min_width": null,
            "object_fit": null,
            "object_position": null,
            "order": null,
            "overflow": null,
            "overflow_x": null,
            "overflow_y": null,
            "padding": null,
            "right": null,
            "top": null,
            "visibility": null,
            "width": "20px"
          }
        },
        "f3d2be9218e94a5e93d7c837e4e5a431": {
          "model_module": "@jupyter-widgets/controls",
          "model_name": "ProgressStyleModel",
          "model_module_version": "1.5.0",
          "state": {
            "_model_module": "@jupyter-widgets/controls",
            "_model_module_version": "1.5.0",
            "_model_name": "ProgressStyleModel",
            "_view_count": null,
            "_view_module": "@jupyter-widgets/base",
            "_view_module_version": "1.2.0",
            "_view_name": "StyleView",
            "bar_color": null,
            "description_width": ""
          }
        },
        "c59468f110e74509896ffe6d2ede2ea8": {
          "model_module": "@jupyter-widgets/base",
          "model_name": "LayoutModel",
          "model_module_version": "1.2.0",
          "state": {
            "_model_module": "@jupyter-widgets/base",
            "_model_module_version": "1.2.0",
            "_model_name": "LayoutModel",
            "_view_count": null,
            "_view_module": "@jupyter-widgets/base",
            "_view_module_version": "1.2.0",
            "_view_name": "LayoutView",
            "align_content": null,
            "align_items": null,
            "align_self": null,
            "border": null,
            "bottom": null,
            "display": null,
            "flex": null,
            "flex_flow": null,
            "grid_area": null,
            "grid_auto_columns": null,
            "grid_auto_flow": null,
            "grid_auto_rows": null,
            "grid_column": null,
            "grid_gap": null,
            "grid_row": null,
            "grid_template_areas": null,
            "grid_template_columns": null,
            "grid_template_rows": null,
            "height": null,
            "justify_content": null,
            "justify_items": null,
            "left": null,
            "margin": null,
            "max_height": null,
            "max_width": null,
            "min_height": null,
            "min_width": null,
            "object_fit": null,
            "object_position": null,
            "order": null,
            "overflow": null,
            "overflow_x": null,
            "overflow_y": null,
            "padding": null,
            "right": null,
            "top": null,
            "visibility": null,
            "width": null
          }
        },
        "3e940b4937814a9d83ab4e9f5f864bf6": {
          "model_module": "@jupyter-widgets/controls",
          "model_name": "DescriptionStyleModel",
          "model_module_version": "1.5.0",
          "state": {
            "_model_module": "@jupyter-widgets/controls",
            "_model_module_version": "1.5.0",
            "_model_name": "DescriptionStyleModel",
            "_view_count": null,
            "_view_module": "@jupyter-widgets/base",
            "_view_module_version": "1.2.0",
            "_view_name": "StyleView",
            "description_width": ""
          }
        },
        "5c53d78d643f414daa1dbeb3df145969": {
          "model_module": "@jupyter-widgets/controls",
          "model_name": "HBoxModel",
          "model_module_version": "1.5.0",
          "state": {
            "_dom_classes": [],
            "_model_module": "@jupyter-widgets/controls",
            "_model_module_version": "1.5.0",
            "_model_name": "HBoxModel",
            "_view_count": null,
            "_view_module": "@jupyter-widgets/controls",
            "_view_module_version": "1.5.0",
            "_view_name": "HBoxView",
            "box_style": "",
            "children": [
              "IPY_MODEL_2970e6a292964b88a633f12c5f771950",
              "IPY_MODEL_3cac0b2a75074d7181336b3f04dd6e97",
              "IPY_MODEL_de65fa1af3774019904c7f13793cc66c"
            ],
            "layout": "IPY_MODEL_fc96e88dbe594fbeacf42b4544a7748f"
          }
        },
        "2970e6a292964b88a633f12c5f771950": {
          "model_module": "@jupyter-widgets/controls",
          "model_name": "HTMLModel",
          "model_module_version": "1.5.0",
          "state": {
            "_dom_classes": [],
            "_model_module": "@jupyter-widgets/controls",
            "_model_module_version": "1.5.0",
            "_model_name": "HTMLModel",
            "_view_count": null,
            "_view_module": "@jupyter-widgets/controls",
            "_view_module_version": "1.5.0",
            "_view_name": "HTMLView",
            "description": "",
            "description_tooltip": null,
            "layout": "IPY_MODEL_04fb9a056bb244bdbeea05d14aa48263",
            "placeholder": "​",
            "style": "IPY_MODEL_ad720ffef7ab4a338a272f6d37de02c7",
            "value": "Generating splits...: 100%"
          }
        },
        "3cac0b2a75074d7181336b3f04dd6e97": {
          "model_module": "@jupyter-widgets/controls",
          "model_name": "FloatProgressModel",
          "model_module_version": "1.5.0",
          "state": {
            "_dom_classes": [],
            "_model_module": "@jupyter-widgets/controls",
            "_model_module_version": "1.5.0",
            "_model_name": "FloatProgressModel",
            "_view_count": null,
            "_view_module": "@jupyter-widgets/controls",
            "_view_module_version": "1.5.0",
            "_view_name": "ProgressView",
            "bar_style": "",
            "description": "",
            "description_tooltip": null,
            "layout": "IPY_MODEL_ff303776706247e78a784d8013f63155",
            "max": 1,
            "min": 0,
            "orientation": "horizontal",
            "style": "IPY_MODEL_bc5c241d2e604cd1b1af4b8558f3e3fb",
            "value": 1
          }
        },
        "de65fa1af3774019904c7f13793cc66c": {
          "model_module": "@jupyter-widgets/controls",
          "model_name": "HTMLModel",
          "model_module_version": "1.5.0",
          "state": {
            "_dom_classes": [],
            "_model_module": "@jupyter-widgets/controls",
            "_model_module_version": "1.5.0",
            "_model_name": "HTMLModel",
            "_view_count": null,
            "_view_module": "@jupyter-widgets/controls",
            "_view_module_version": "1.5.0",
            "_view_name": "HTMLView",
            "description": "",
            "description_tooltip": null,
            "layout": "IPY_MODEL_32c3923f3d5c49a5b26a69de22e9075f",
            "placeholder": "​",
            "style": "IPY_MODEL_3d1c02d418f84395bf866dc53311060b",
            "value": " 1/1 [01:14&lt;00:00, 74.81s/ splits]"
          }
        },
        "fc96e88dbe594fbeacf42b4544a7748f": {
          "model_module": "@jupyter-widgets/base",
          "model_name": "LayoutModel",
          "model_module_version": "1.2.0",
          "state": {
            "_model_module": "@jupyter-widgets/base",
            "_model_module_version": "1.2.0",
            "_model_name": "LayoutModel",
            "_view_count": null,
            "_view_module": "@jupyter-widgets/base",
            "_view_module_version": "1.2.0",
            "_view_name": "LayoutView",
            "align_content": null,
            "align_items": null,
            "align_self": null,
            "border": null,
            "bottom": null,
            "display": null,
            "flex": null,
            "flex_flow": null,
            "grid_area": null,
            "grid_auto_columns": null,
            "grid_auto_flow": null,
            "grid_auto_rows": null,
            "grid_column": null,
            "grid_gap": null,
            "grid_row": null,
            "grid_template_areas": null,
            "grid_template_columns": null,
            "grid_template_rows": null,
            "height": null,
            "justify_content": null,
            "justify_items": null,
            "left": null,
            "margin": null,
            "max_height": null,
            "max_width": null,
            "min_height": null,
            "min_width": null,
            "object_fit": null,
            "object_position": null,
            "order": null,
            "overflow": null,
            "overflow_x": null,
            "overflow_y": null,
            "padding": null,
            "right": null,
            "top": null,
            "visibility": "hidden",
            "width": null
          }
        },
        "04fb9a056bb244bdbeea05d14aa48263": {
          "model_module": "@jupyter-widgets/base",
          "model_name": "LayoutModel",
          "model_module_version": "1.2.0",
          "state": {
            "_model_module": "@jupyter-widgets/base",
            "_model_module_version": "1.2.0",
            "_model_name": "LayoutModel",
            "_view_count": null,
            "_view_module": "@jupyter-widgets/base",
            "_view_module_version": "1.2.0",
            "_view_name": "LayoutView",
            "align_content": null,
            "align_items": null,
            "align_self": null,
            "border": null,
            "bottom": null,
            "display": null,
            "flex": null,
            "flex_flow": null,
            "grid_area": null,
            "grid_auto_columns": null,
            "grid_auto_flow": null,
            "grid_auto_rows": null,
            "grid_column": null,
            "grid_gap": null,
            "grid_row": null,
            "grid_template_areas": null,
            "grid_template_columns": null,
            "grid_template_rows": null,
            "height": null,
            "justify_content": null,
            "justify_items": null,
            "left": null,
            "margin": null,
            "max_height": null,
            "max_width": null,
            "min_height": null,
            "min_width": null,
            "object_fit": null,
            "object_position": null,
            "order": null,
            "overflow": null,
            "overflow_x": null,
            "overflow_y": null,
            "padding": null,
            "right": null,
            "top": null,
            "visibility": null,
            "width": null
          }
        },
        "ad720ffef7ab4a338a272f6d37de02c7": {
          "model_module": "@jupyter-widgets/controls",
          "model_name": "DescriptionStyleModel",
          "model_module_version": "1.5.0",
          "state": {
            "_model_module": "@jupyter-widgets/controls",
            "_model_module_version": "1.5.0",
            "_model_name": "DescriptionStyleModel",
            "_view_count": null,
            "_view_module": "@jupyter-widgets/base",
            "_view_module_version": "1.2.0",
            "_view_name": "StyleView",
            "description_width": ""
          }
        },
        "ff303776706247e78a784d8013f63155": {
          "model_module": "@jupyter-widgets/base",
          "model_name": "LayoutModel",
          "model_module_version": "1.2.0",
          "state": {
            "_model_module": "@jupyter-widgets/base",
            "_model_module_version": "1.2.0",
            "_model_name": "LayoutModel",
            "_view_count": null,
            "_view_module": "@jupyter-widgets/base",
            "_view_module_version": "1.2.0",
            "_view_name": "LayoutView",
            "align_content": null,
            "align_items": null,
            "align_self": null,
            "border": null,
            "bottom": null,
            "display": null,
            "flex": null,
            "flex_flow": null,
            "grid_area": null,
            "grid_auto_columns": null,
            "grid_auto_flow": null,
            "grid_auto_rows": null,
            "grid_column": null,
            "grid_gap": null,
            "grid_row": null,
            "grid_template_areas": null,
            "grid_template_columns": null,
            "grid_template_rows": null,
            "height": null,
            "justify_content": null,
            "justify_items": null,
            "left": null,
            "margin": null,
            "max_height": null,
            "max_width": null,
            "min_height": null,
            "min_width": null,
            "object_fit": null,
            "object_position": null,
            "order": null,
            "overflow": null,
            "overflow_x": null,
            "overflow_y": null,
            "padding": null,
            "right": null,
            "top": null,
            "visibility": null,
            "width": null
          }
        },
        "bc5c241d2e604cd1b1af4b8558f3e3fb": {
          "model_module": "@jupyter-widgets/controls",
          "model_name": "ProgressStyleModel",
          "model_module_version": "1.5.0",
          "state": {
            "_model_module": "@jupyter-widgets/controls",
            "_model_module_version": "1.5.0",
            "_model_name": "ProgressStyleModel",
            "_view_count": null,
            "_view_module": "@jupyter-widgets/base",
            "_view_module_version": "1.2.0",
            "_view_name": "StyleView",
            "bar_color": null,
            "description_width": ""
          }
        },
        "32c3923f3d5c49a5b26a69de22e9075f": {
          "model_module": "@jupyter-widgets/base",
          "model_name": "LayoutModel",
          "model_module_version": "1.2.0",
          "state": {
            "_model_module": "@jupyter-widgets/base",
            "_model_module_version": "1.2.0",
            "_model_name": "LayoutModel",
            "_view_count": null,
            "_view_module": "@jupyter-widgets/base",
            "_view_module_version": "1.2.0",
            "_view_name": "LayoutView",
            "align_content": null,
            "align_items": null,
            "align_self": null,
            "border": null,
            "bottom": null,
            "display": null,
            "flex": null,
            "flex_flow": null,
            "grid_area": null,
            "grid_auto_columns": null,
            "grid_auto_flow": null,
            "grid_auto_rows": null,
            "grid_column": null,
            "grid_gap": null,
            "grid_row": null,
            "grid_template_areas": null,
            "grid_template_columns": null,
            "grid_template_rows": null,
            "height": null,
            "justify_content": null,
            "justify_items": null,
            "left": null,
            "margin": null,
            "max_height": null,
            "max_width": null,
            "min_height": null,
            "min_width": null,
            "object_fit": null,
            "object_position": null,
            "order": null,
            "overflow": null,
            "overflow_x": null,
            "overflow_y": null,
            "padding": null,
            "right": null,
            "top": null,
            "visibility": null,
            "width": null
          }
        },
        "3d1c02d418f84395bf866dc53311060b": {
          "model_module": "@jupyter-widgets/controls",
          "model_name": "DescriptionStyleModel",
          "model_module_version": "1.5.0",
          "state": {
            "_model_module": "@jupyter-widgets/controls",
            "_model_module_version": "1.5.0",
            "_model_name": "DescriptionStyleModel",
            "_view_count": null,
            "_view_module": "@jupyter-widgets/base",
            "_view_module_version": "1.2.0",
            "_view_name": "StyleView",
            "description_width": ""
          }
        },
        "ac69b1117fe24e7ab95a854ed56a5297": {
          "model_module": "@jupyter-widgets/controls",
          "model_name": "HBoxModel",
          "model_module_version": "1.5.0",
          "state": {
            "_dom_classes": [],
            "_model_module": "@jupyter-widgets/controls",
            "_model_module_version": "1.5.0",
            "_model_name": "HBoxModel",
            "_view_count": null,
            "_view_module": "@jupyter-widgets/controls",
            "_view_module_version": "1.5.0",
            "_view_name": "HBoxView",
            "box_style": "",
            "children": [
              "IPY_MODEL_5dba691edb6c4d2a868146a72dfad0d1",
              "IPY_MODEL_c70aa39e64ce448c856623eb2fcce69e",
              "IPY_MODEL_95c2075e7933485b8196fa9bbfefafb7"
            ],
            "layout": "IPY_MODEL_75b5e034e2934269918baa4e29b33f6c"
          }
        },
        "5dba691edb6c4d2a868146a72dfad0d1": {
          "model_module": "@jupyter-widgets/controls",
          "model_name": "HTMLModel",
          "model_module_version": "1.5.0",
          "state": {
            "_dom_classes": [],
            "_model_module": "@jupyter-widgets/controls",
            "_model_module_version": "1.5.0",
            "_model_name": "HTMLModel",
            "_view_count": null,
            "_view_module": "@jupyter-widgets/controls",
            "_view_module_version": "1.5.0",
            "_view_name": "HTMLView",
            "description": "",
            "description_tooltip": null,
            "layout": "IPY_MODEL_38d981ae2d45462db58c3e2559490446",
            "placeholder": "​",
            "style": "IPY_MODEL_be0c3452c26d4a8ab2fa3fe6cfebab09",
            "value": "Generating train examples...:  99%"
          }
        },
        "c70aa39e64ce448c856623eb2fcce69e": {
          "model_module": "@jupyter-widgets/controls",
          "model_name": "FloatProgressModel",
          "model_module_version": "1.5.0",
          "state": {
            "_dom_classes": [],
            "_model_module": "@jupyter-widgets/controls",
            "_model_module_version": "1.5.0",
            "_model_name": "FloatProgressModel",
            "_view_count": null,
            "_view_module": "@jupyter-widgets/controls",
            "_view_module_version": "1.5.0",
            "_view_name": "ProgressView",
            "bar_style": "",
            "description": "",
            "description_tooltip": null,
            "layout": "IPY_MODEL_3ff106ba184843de9e2d183e1e9535d0",
            "max": 23262,
            "min": 0,
            "orientation": "horizontal",
            "style": "IPY_MODEL_65d6cc97772344acae424c82ed8644da",
            "value": 23262
          }
        },
        "95c2075e7933485b8196fa9bbfefafb7": {
          "model_module": "@jupyter-widgets/controls",
          "model_name": "HTMLModel",
          "model_module_version": "1.5.0",
          "state": {
            "_dom_classes": [],
            "_model_module": "@jupyter-widgets/controls",
            "_model_module_version": "1.5.0",
            "_model_name": "HTMLModel",
            "_view_count": null,
            "_view_module": "@jupyter-widgets/controls",
            "_view_module_version": "1.5.0",
            "_view_name": "HTMLView",
            "description": "",
            "description_tooltip": null,
            "layout": "IPY_MODEL_bf4a8ebadf124636993aa3c56b14509a",
            "placeholder": "​",
            "style": "IPY_MODEL_62496950150a49319e18155e85f95c4d",
            "value": " 23076/23262 [01:10&lt;00:00, 190.58 examples/s]"
          }
        },
        "75b5e034e2934269918baa4e29b33f6c": {
          "model_module": "@jupyter-widgets/base",
          "model_name": "LayoutModel",
          "model_module_version": "1.2.0",
          "state": {
            "_model_module": "@jupyter-widgets/base",
            "_model_module_version": "1.2.0",
            "_model_name": "LayoutModel",
            "_view_count": null,
            "_view_module": "@jupyter-widgets/base",
            "_view_module_version": "1.2.0",
            "_view_name": "LayoutView",
            "align_content": null,
            "align_items": null,
            "align_self": null,
            "border": null,
            "bottom": null,
            "display": null,
            "flex": null,
            "flex_flow": null,
            "grid_area": null,
            "grid_auto_columns": null,
            "grid_auto_flow": null,
            "grid_auto_rows": null,
            "grid_column": null,
            "grid_gap": null,
            "grid_row": null,
            "grid_template_areas": null,
            "grid_template_columns": null,
            "grid_template_rows": null,
            "height": null,
            "justify_content": null,
            "justify_items": null,
            "left": null,
            "margin": null,
            "max_height": null,
            "max_width": null,
            "min_height": null,
            "min_width": null,
            "object_fit": null,
            "object_position": null,
            "order": null,
            "overflow": null,
            "overflow_x": null,
            "overflow_y": null,
            "padding": null,
            "right": null,
            "top": null,
            "visibility": "hidden",
            "width": null
          }
        },
        "38d981ae2d45462db58c3e2559490446": {
          "model_module": "@jupyter-widgets/base",
          "model_name": "LayoutModel",
          "model_module_version": "1.2.0",
          "state": {
            "_model_module": "@jupyter-widgets/base",
            "_model_module_version": "1.2.0",
            "_model_name": "LayoutModel",
            "_view_count": null,
            "_view_module": "@jupyter-widgets/base",
            "_view_module_version": "1.2.0",
            "_view_name": "LayoutView",
            "align_content": null,
            "align_items": null,
            "align_self": null,
            "border": null,
            "bottom": null,
            "display": null,
            "flex": null,
            "flex_flow": null,
            "grid_area": null,
            "grid_auto_columns": null,
            "grid_auto_flow": null,
            "grid_auto_rows": null,
            "grid_column": null,
            "grid_gap": null,
            "grid_row": null,
            "grid_template_areas": null,
            "grid_template_columns": null,
            "grid_template_rows": null,
            "height": null,
            "justify_content": null,
            "justify_items": null,
            "left": null,
            "margin": null,
            "max_height": null,
            "max_width": null,
            "min_height": null,
            "min_width": null,
            "object_fit": null,
            "object_position": null,
            "order": null,
            "overflow": null,
            "overflow_x": null,
            "overflow_y": null,
            "padding": null,
            "right": null,
            "top": null,
            "visibility": null,
            "width": null
          }
        },
        "be0c3452c26d4a8ab2fa3fe6cfebab09": {
          "model_module": "@jupyter-widgets/controls",
          "model_name": "DescriptionStyleModel",
          "model_module_version": "1.5.0",
          "state": {
            "_model_module": "@jupyter-widgets/controls",
            "_model_module_version": "1.5.0",
            "_model_name": "DescriptionStyleModel",
            "_view_count": null,
            "_view_module": "@jupyter-widgets/base",
            "_view_module_version": "1.2.0",
            "_view_name": "StyleView",
            "description_width": ""
          }
        },
        "3ff106ba184843de9e2d183e1e9535d0": {
          "model_module": "@jupyter-widgets/base",
          "model_name": "LayoutModel",
          "model_module_version": "1.2.0",
          "state": {
            "_model_module": "@jupyter-widgets/base",
            "_model_module_version": "1.2.0",
            "_model_name": "LayoutModel",
            "_view_count": null,
            "_view_module": "@jupyter-widgets/base",
            "_view_module_version": "1.2.0",
            "_view_name": "LayoutView",
            "align_content": null,
            "align_items": null,
            "align_self": null,
            "border": null,
            "bottom": null,
            "display": null,
            "flex": null,
            "flex_flow": null,
            "grid_area": null,
            "grid_auto_columns": null,
            "grid_auto_flow": null,
            "grid_auto_rows": null,
            "grid_column": null,
            "grid_gap": null,
            "grid_row": null,
            "grid_template_areas": null,
            "grid_template_columns": null,
            "grid_template_rows": null,
            "height": null,
            "justify_content": null,
            "justify_items": null,
            "left": null,
            "margin": null,
            "max_height": null,
            "max_width": null,
            "min_height": null,
            "min_width": null,
            "object_fit": null,
            "object_position": null,
            "order": null,
            "overflow": null,
            "overflow_x": null,
            "overflow_y": null,
            "padding": null,
            "right": null,
            "top": null,
            "visibility": null,
            "width": null
          }
        },
        "65d6cc97772344acae424c82ed8644da": {
          "model_module": "@jupyter-widgets/controls",
          "model_name": "ProgressStyleModel",
          "model_module_version": "1.5.0",
          "state": {
            "_model_module": "@jupyter-widgets/controls",
            "_model_module_version": "1.5.0",
            "_model_name": "ProgressStyleModel",
            "_view_count": null,
            "_view_module": "@jupyter-widgets/base",
            "_view_module_version": "1.2.0",
            "_view_name": "StyleView",
            "bar_color": null,
            "description_width": ""
          }
        },
        "bf4a8ebadf124636993aa3c56b14509a": {
          "model_module": "@jupyter-widgets/base",
          "model_name": "LayoutModel",
          "model_module_version": "1.2.0",
          "state": {
            "_model_module": "@jupyter-widgets/base",
            "_model_module_version": "1.2.0",
            "_model_name": "LayoutModel",
            "_view_count": null,
            "_view_module": "@jupyter-widgets/base",
            "_view_module_version": "1.2.0",
            "_view_name": "LayoutView",
            "align_content": null,
            "align_items": null,
            "align_self": null,
            "border": null,
            "bottom": null,
            "display": null,
            "flex": null,
            "flex_flow": null,
            "grid_area": null,
            "grid_auto_columns": null,
            "grid_auto_flow": null,
            "grid_auto_rows": null,
            "grid_column": null,
            "grid_gap": null,
            "grid_row": null,
            "grid_template_areas": null,
            "grid_template_columns": null,
            "grid_template_rows": null,
            "height": null,
            "justify_content": null,
            "justify_items": null,
            "left": null,
            "margin": null,
            "max_height": null,
            "max_width": null,
            "min_height": null,
            "min_width": null,
            "object_fit": null,
            "object_position": null,
            "order": null,
            "overflow": null,
            "overflow_x": null,
            "overflow_y": null,
            "padding": null,
            "right": null,
            "top": null,
            "visibility": null,
            "width": null
          }
        },
        "62496950150a49319e18155e85f95c4d": {
          "model_module": "@jupyter-widgets/controls",
          "model_name": "DescriptionStyleModel",
          "model_module_version": "1.5.0",
          "state": {
            "_model_module": "@jupyter-widgets/controls",
            "_model_module_version": "1.5.0",
            "_model_name": "DescriptionStyleModel",
            "_view_count": null,
            "_view_module": "@jupyter-widgets/base",
            "_view_module_version": "1.2.0",
            "_view_name": "StyleView",
            "description_width": ""
          }
        },
        "4798d9c6ddde41079b7802877aabad0d": {
          "model_module": "@jupyter-widgets/controls",
          "model_name": "HBoxModel",
          "model_module_version": "1.5.0",
          "state": {
            "_dom_classes": [],
            "_model_module": "@jupyter-widgets/controls",
            "_model_module_version": "1.5.0",
            "_model_name": "HBoxModel",
            "_view_count": null,
            "_view_module": "@jupyter-widgets/controls",
            "_view_module_version": "1.5.0",
            "_view_name": "HBoxView",
            "box_style": "",
            "children": [
              "IPY_MODEL_84c64ee3b7024db082d7023433532e8b",
              "IPY_MODEL_ef0dea7ae7d047daaa906a3d985a7f3f",
              "IPY_MODEL_6e9ee513cc814f8bb7628553f0cc1e2c"
            ],
            "layout": "IPY_MODEL_d2c1b9b6f6c844e4ab25007a05a5292d"
          }
        },
        "84c64ee3b7024db082d7023433532e8b": {
          "model_module": "@jupyter-widgets/controls",
          "model_name": "HTMLModel",
          "model_module_version": "1.5.0",
          "state": {
            "_dom_classes": [],
            "_model_module": "@jupyter-widgets/controls",
            "_model_module_version": "1.5.0",
            "_model_name": "HTMLModel",
            "_view_count": null,
            "_view_module": "@jupyter-widgets/controls",
            "_view_module_version": "1.5.0",
            "_view_name": "HTMLView",
            "description": "",
            "description_tooltip": null,
            "layout": "IPY_MODEL_159634f2488d440a95be0f988cac9415",
            "placeholder": "​",
            "style": "IPY_MODEL_b4bb7ace82544f069c055f779bbd6490",
            "value": "Shuffling /root/tensorflow_datasets/cats_vs_dogs/incomplete.YGQLPF_4.0.1/cats_vs_dogs-train.tfrecord*...:  85%"
          }
        },
        "ef0dea7ae7d047daaa906a3d985a7f3f": {
          "model_module": "@jupyter-widgets/controls",
          "model_name": "FloatProgressModel",
          "model_module_version": "1.5.0",
          "state": {
            "_dom_classes": [],
            "_model_module": "@jupyter-widgets/controls",
            "_model_module_version": "1.5.0",
            "_model_name": "FloatProgressModel",
            "_view_count": null,
            "_view_module": "@jupyter-widgets/controls",
            "_view_module_version": "1.5.0",
            "_view_name": "ProgressView",
            "bar_style": "",
            "description": "",
            "description_tooltip": null,
            "layout": "IPY_MODEL_064d526332294e1c9fe6733ac9a7284f",
            "max": 23262,
            "min": 0,
            "orientation": "horizontal",
            "style": "IPY_MODEL_d8b7ecb9f41a4ddf9a51c1a8d5d7ae7f",
            "value": 23262
          }
        },
        "6e9ee513cc814f8bb7628553f0cc1e2c": {
          "model_module": "@jupyter-widgets/controls",
          "model_name": "HTMLModel",
          "model_module_version": "1.5.0",
          "state": {
            "_dom_classes": [],
            "_model_module": "@jupyter-widgets/controls",
            "_model_module_version": "1.5.0",
            "_model_name": "HTMLModel",
            "_view_count": null,
            "_view_module": "@jupyter-widgets/controls",
            "_view_module_version": "1.5.0",
            "_view_name": "HTMLView",
            "description": "",
            "description_tooltip": null,
            "layout": "IPY_MODEL_70b378001fec486bb0b256b13c1ed374",
            "placeholder": "​",
            "style": "IPY_MODEL_9fc27fa133e9459c9cb61a0bd857cd39",
            "value": " 19862/23262 [00:03&lt;00:00, 5692.43 examples/s]"
          }
        },
        "d2c1b9b6f6c844e4ab25007a05a5292d": {
          "model_module": "@jupyter-widgets/base",
          "model_name": "LayoutModel",
          "model_module_version": "1.2.0",
          "state": {
            "_model_module": "@jupyter-widgets/base",
            "_model_module_version": "1.2.0",
            "_model_name": "LayoutModel",
            "_view_count": null,
            "_view_module": "@jupyter-widgets/base",
            "_view_module_version": "1.2.0",
            "_view_name": "LayoutView",
            "align_content": null,
            "align_items": null,
            "align_self": null,
            "border": null,
            "bottom": null,
            "display": null,
            "flex": null,
            "flex_flow": null,
            "grid_area": null,
            "grid_auto_columns": null,
            "grid_auto_flow": null,
            "grid_auto_rows": null,
            "grid_column": null,
            "grid_gap": null,
            "grid_row": null,
            "grid_template_areas": null,
            "grid_template_columns": null,
            "grid_template_rows": null,
            "height": null,
            "justify_content": null,
            "justify_items": null,
            "left": null,
            "margin": null,
            "max_height": null,
            "max_width": null,
            "min_height": null,
            "min_width": null,
            "object_fit": null,
            "object_position": null,
            "order": null,
            "overflow": null,
            "overflow_x": null,
            "overflow_y": null,
            "padding": null,
            "right": null,
            "top": null,
            "visibility": "hidden",
            "width": null
          }
        },
        "159634f2488d440a95be0f988cac9415": {
          "model_module": "@jupyter-widgets/base",
          "model_name": "LayoutModel",
          "model_module_version": "1.2.0",
          "state": {
            "_model_module": "@jupyter-widgets/base",
            "_model_module_version": "1.2.0",
            "_model_name": "LayoutModel",
            "_view_count": null,
            "_view_module": "@jupyter-widgets/base",
            "_view_module_version": "1.2.0",
            "_view_name": "LayoutView",
            "align_content": null,
            "align_items": null,
            "align_self": null,
            "border": null,
            "bottom": null,
            "display": null,
            "flex": null,
            "flex_flow": null,
            "grid_area": null,
            "grid_auto_columns": null,
            "grid_auto_flow": null,
            "grid_auto_rows": null,
            "grid_column": null,
            "grid_gap": null,
            "grid_row": null,
            "grid_template_areas": null,
            "grid_template_columns": null,
            "grid_template_rows": null,
            "height": null,
            "justify_content": null,
            "justify_items": null,
            "left": null,
            "margin": null,
            "max_height": null,
            "max_width": null,
            "min_height": null,
            "min_width": null,
            "object_fit": null,
            "object_position": null,
            "order": null,
            "overflow": null,
            "overflow_x": null,
            "overflow_y": null,
            "padding": null,
            "right": null,
            "top": null,
            "visibility": null,
            "width": null
          }
        },
        "b4bb7ace82544f069c055f779bbd6490": {
          "model_module": "@jupyter-widgets/controls",
          "model_name": "DescriptionStyleModel",
          "model_module_version": "1.5.0",
          "state": {
            "_model_module": "@jupyter-widgets/controls",
            "_model_module_version": "1.5.0",
            "_model_name": "DescriptionStyleModel",
            "_view_count": null,
            "_view_module": "@jupyter-widgets/base",
            "_view_module_version": "1.2.0",
            "_view_name": "StyleView",
            "description_width": ""
          }
        },
        "064d526332294e1c9fe6733ac9a7284f": {
          "model_module": "@jupyter-widgets/base",
          "model_name": "LayoutModel",
          "model_module_version": "1.2.0",
          "state": {
            "_model_module": "@jupyter-widgets/base",
            "_model_module_version": "1.2.0",
            "_model_name": "LayoutModel",
            "_view_count": null,
            "_view_module": "@jupyter-widgets/base",
            "_view_module_version": "1.2.0",
            "_view_name": "LayoutView",
            "align_content": null,
            "align_items": null,
            "align_self": null,
            "border": null,
            "bottom": null,
            "display": null,
            "flex": null,
            "flex_flow": null,
            "grid_area": null,
            "grid_auto_columns": null,
            "grid_auto_flow": null,
            "grid_auto_rows": null,
            "grid_column": null,
            "grid_gap": null,
            "grid_row": null,
            "grid_template_areas": null,
            "grid_template_columns": null,
            "grid_template_rows": null,
            "height": null,
            "justify_content": null,
            "justify_items": null,
            "left": null,
            "margin": null,
            "max_height": null,
            "max_width": null,
            "min_height": null,
            "min_width": null,
            "object_fit": null,
            "object_position": null,
            "order": null,
            "overflow": null,
            "overflow_x": null,
            "overflow_y": null,
            "padding": null,
            "right": null,
            "top": null,
            "visibility": null,
            "width": null
          }
        },
        "d8b7ecb9f41a4ddf9a51c1a8d5d7ae7f": {
          "model_module": "@jupyter-widgets/controls",
          "model_name": "ProgressStyleModel",
          "model_module_version": "1.5.0",
          "state": {
            "_model_module": "@jupyter-widgets/controls",
            "_model_module_version": "1.5.0",
            "_model_name": "ProgressStyleModel",
            "_view_count": null,
            "_view_module": "@jupyter-widgets/base",
            "_view_module_version": "1.2.0",
            "_view_name": "StyleView",
            "bar_color": null,
            "description_width": ""
          }
        },
        "70b378001fec486bb0b256b13c1ed374": {
          "model_module": "@jupyter-widgets/base",
          "model_name": "LayoutModel",
          "model_module_version": "1.2.0",
          "state": {
            "_model_module": "@jupyter-widgets/base",
            "_model_module_version": "1.2.0",
            "_model_name": "LayoutModel",
            "_view_count": null,
            "_view_module": "@jupyter-widgets/base",
            "_view_module_version": "1.2.0",
            "_view_name": "LayoutView",
            "align_content": null,
            "align_items": null,
            "align_self": null,
            "border": null,
            "bottom": null,
            "display": null,
            "flex": null,
            "flex_flow": null,
            "grid_area": null,
            "grid_auto_columns": null,
            "grid_auto_flow": null,
            "grid_auto_rows": null,
            "grid_column": null,
            "grid_gap": null,
            "grid_row": null,
            "grid_template_areas": null,
            "grid_template_columns": null,
            "grid_template_rows": null,
            "height": null,
            "justify_content": null,
            "justify_items": null,
            "left": null,
            "margin": null,
            "max_height": null,
            "max_width": null,
            "min_height": null,
            "min_width": null,
            "object_fit": null,
            "object_position": null,
            "order": null,
            "overflow": null,
            "overflow_x": null,
            "overflow_y": null,
            "padding": null,
            "right": null,
            "top": null,
            "visibility": null,
            "width": null
          }
        },
        "9fc27fa133e9459c9cb61a0bd857cd39": {
          "model_module": "@jupyter-widgets/controls",
          "model_name": "DescriptionStyleModel",
          "model_module_version": "1.5.0",
          "state": {
            "_model_module": "@jupyter-widgets/controls",
            "_model_module_version": "1.5.0",
            "_model_name": "DescriptionStyleModel",
            "_view_count": null,
            "_view_module": "@jupyter-widgets/base",
            "_view_module_version": "1.2.0",
            "_view_name": "StyleView",
            "description_width": ""
          }
        }
      }
    }
  },
  "cells": [
    {
      "cell_type": "code",
      "source": [],
      "metadata": {
        "id": "Uvn_VZphuRrJ"
      },
      "execution_count": null,
      "outputs": []
    },
    {
      "cell_type": "markdown",
      "source": [
        "# Exercice 1:\n",
        "##### Ecrivez le code Keras correspondant à ce réseau de neurones.![image.png](data:image/png;base64,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)"
      ],
      "metadata": {
        "id": "l1JgkAgcwJx5"
      }
    },
    {
      "cell_type": "code",
      "source": [
        "from tensorflow.keras.models import Sequential\n",
        "from tensorflow.keras.layers import Dense\n",
        "\n",
        "# Initialisation du modèle\n",
        "model = Sequential()\n",
        "\n",
        "# Ajout de la première couche cachée avec 4 neurones (arbitrairement choisi)\n",
        "\n",
        "# Ajout de la deuxième couche cachée avec 5 neurones\n",
        "\n",
        "# Ajout de la troisième couche cachée avec 6 neurones\n",
        "\n",
        "\n",
        "# Ajout de la troisième couche cachée avec 4 neurones\n",
        "\n",
        "# Ajout de la couche de sortie avec 3 neurones (pour les 3 sorties y1, y2, y3)\n",
        "\n",
        "# Compilation du modèle\n",
        "\n",
        "# Résumé du modèle\n",
        "model.summary()\n"
      ],
      "metadata": {
        "colab": {
          "base_uri": "https://localhost:8080/",
          "height": 153
        },
        "id": "NHenmO60uSzQ",
        "outputId": "3484d03d-16eb-4116-d945-35396d3d1a35"
      },
      "execution_count": 1,
      "outputs": [
        {
          "output_type": "display_data",
          "data": {
            "text/plain": [
              "\u001b[1mModel: \"sequential\"\u001b[0m\n"
            ],
            "text/html": [
              "<pre style=\"white-space:pre;overflow-x:auto;line-height:normal;font-family:Menlo,'DejaVu Sans Mono',consolas,'Courier New',monospace\"><span style=\"font-weight: bold\">Model: \"sequential\"</span>\n",
              "</pre>\n"
            ]
          },
          "metadata": {}
        },
        {
          "output_type": "display_data",
          "data": {
            "text/plain": [
              "┏━━━━━━━━━━━━━━━━━━━━━━━━━━━━━━━━━━━━━━┳━━━━━━━━━━━━━━━━━━━━━━━━━━━━━┳━━━━━━━━━━━━━━━━━┓\n",
              "┃\u001b[1m \u001b[0m\u001b[1mLayer (type)                        \u001b[0m\u001b[1m \u001b[0m┃\u001b[1m \u001b[0m\u001b[1mOutput Shape               \u001b[0m\u001b[1m \u001b[0m┃\u001b[1m \u001b[0m\u001b[1m        Param #\u001b[0m\u001b[1m \u001b[0m┃\n",
              "┡━━━━━━━━━━━━━━━━━━━━━━━━━━━━━━━━━━━━━━╇━━━━━━━━━━━━━━━━━━━━━━━━━━━━━╇━━━━━━━━━━━━━━━━━┩\n",
              "└──────────────────────────────────────┴─────────────────────────────┴─────────────────┘\n"
            ],
            "text/html": [
              "<pre style=\"white-space:pre;overflow-x:auto;line-height:normal;font-family:Menlo,'DejaVu Sans Mono',consolas,'Courier New',monospace\">┏━━━━━━━━━━━━━━━━━━━━━━━━━━━━━━━━━━━━━━┳━━━━━━━━━━━━━━━━━━━━━━━━━━━━━┳━━━━━━━━━━━━━━━━━┓\n",
              "┃<span style=\"font-weight: bold\"> Layer (type)                         </span>┃<span style=\"font-weight: bold\"> Output Shape                </span>┃<span style=\"font-weight: bold\">         Param # </span>┃\n",
              "┡━━━━━━━━━━━━━━━━━━━━━━━━━━━━━━━━━━━━━━╇━━━━━━━━━━━━━━━━━━━━━━━━━━━━━╇━━━━━━━━━━━━━━━━━┩\n",
              "└──────────────────────────────────────┴─────────────────────────────┴─────────────────┘\n",
              "</pre>\n"
            ]
          },
          "metadata": {}
        },
        {
          "output_type": "display_data",
          "data": {
            "text/plain": [
              "\u001b[1m Total params: \u001b[0m\u001b[38;5;34m0\u001b[0m (0.00 B)\n"
            ],
            "text/html": [
              "<pre style=\"white-space:pre;overflow-x:auto;line-height:normal;font-family:Menlo,'DejaVu Sans Mono',consolas,'Courier New',monospace\"><span style=\"font-weight: bold\"> Total params: </span><span style=\"color: #00af00; text-decoration-color: #00af00\">0</span> (0.00 B)\n",
              "</pre>\n"
            ]
          },
          "metadata": {}
        },
        {
          "output_type": "display_data",
          "data": {
            "text/plain": [
              "\u001b[1m Trainable params: \u001b[0m\u001b[38;5;34m0\u001b[0m (0.00 B)\n"
            ],
            "text/html": [
              "<pre style=\"white-space:pre;overflow-x:auto;line-height:normal;font-family:Menlo,'DejaVu Sans Mono',consolas,'Courier New',monospace\"><span style=\"font-weight: bold\"> Trainable params: </span><span style=\"color: #00af00; text-decoration-color: #00af00\">0</span> (0.00 B)\n",
              "</pre>\n"
            ]
          },
          "metadata": {}
        },
        {
          "output_type": "display_data",
          "data": {
            "text/plain": [
              "\u001b[1m Non-trainable params: \u001b[0m\u001b[38;5;34m0\u001b[0m (0.00 B)\n"
            ],
            "text/html": [
              "<pre style=\"white-space:pre;overflow-x:auto;line-height:normal;font-family:Menlo,'DejaVu Sans Mono',consolas,'Courier New',monospace\"><span style=\"font-weight: bold\"> Non-trainable params: </span><span style=\"color: #00af00; text-decoration-color: #00af00\">0</span> (0.00 B)\n",
              "</pre>\n"
            ]
          },
          "metadata": {}
        }
      ]
    },
    {
      "cell_type": "markdown",
      "source": [
        "#Explication des éléments :\n",
        "- input_dim=4 : Le réseau prend 4 entrées (x1, x2, x3, x4).\n",
        "\n",
        "- activation='relu' : Fonction d'activation ReLU (Rectified Linear Unit) utilisée dans les couches cachées pour introduire de la non-linéarité.\n",
        "\n",
        "- units=3 dans la dernière couche : Il y a 3 neurones de sortie (y1, y2, y3), ce qui correspond à une classification en 3 classes.\n",
        "\n",
        "- activation='softmax' : Utilisée dans la couche de sortie pour les probabilités d'appartenance à une classe (classification multi-classes).\n"
      ],
      "metadata": {
        "id": "k3L4nnj2wlMg"
      }
    },
    {
      "cell_type": "code",
      "source": [
        "import numpy as np\n",
        "from tensorflow.keras.utils import to_categorical\n",
        "\n",
        "# Paramètres\n",
        "num_samples = 100  # Nombre d'exemples de données\n",
        "num_features = 4   # Nombre d'entrées (features)\n",
        "num_classes = 3    # Nombre de classes de sortie (y1, y2, y3)\n",
        "\n",
        "# Génération des données d'entrée X (5 features par exemple)\n",
        "X_fake = np.random.rand(num_samples, num_features)\n",
        "\n",
        "# Génération des labels de sortie (aléatoirement entre 0 et 2, pour 3 classes)\n",
        "y_fake = np.random.randint(0, num_classes, size=num_samples)\n",
        "\n",
        "# Convertir les labels en encodage one-hot\n",
        "y_fake_one_hot = to_categorical(y_fake, num_classes)\n",
        "\n",
        "# Affichage de quelques exemples de données\n",
        "print(\"Exemples de vecteurs d'entrée (X):\")\n",
        "print(X_fake[:5])\n",
        "\n",
        "print(\"\\nLabels avant one-hot encoding:\")\n",
        "print(y_fake[:5])\n",
        "\n",
        "print(\"\\nLabels après one-hot encoding:\")\n",
        "print(y_fake_one_hot[:5])\n"
      ],
      "metadata": {
        "colab": {
          "base_uri": "https://localhost:8080/"
        },
        "id": "NHItbdxXzSfg",
        "outputId": "6b4a629f-142f-4138-b72f-37c352834b37"
      },
      "execution_count": null,
      "outputs": [
        {
          "output_type": "stream",
          "name": "stdout",
          "text": [
            "Exemples de vecteurs d'entrée (X):\n",
            "[[0.86882765 0.5536388  0.64688859 0.90408024]\n",
            " [0.31982582 0.02497991 0.95697893 0.57309955]\n",
            " [0.62346514 0.18475105 0.47162299 0.36275029]\n",
            " [0.24005241 0.71377241 0.411886   0.52547023]\n",
            " [0.2961847  0.32548875 0.95676983 0.6128795 ]]\n",
            "\n",
            "Labels avant one-hot encoding:\n",
            "[2 2 0 0 1]\n",
            "\n",
            "Labels après one-hot encoding:\n",
            "[[0. 0. 1.]\n",
            " [0. 0. 1.]\n",
            " [1. 0. 0.]\n",
            " [1. 0. 0.]\n",
            " [0. 1. 0.]]\n"
          ]
        }
      ]
    },
    {
      "cell_type": "code",
      "source": [
        "X_fake.shape"
      ],
      "metadata": {
        "colab": {
          "base_uri": "https://localhost:8080/"
        },
        "id": "lQlOIPra0u4C",
        "outputId": "9a9d7a58-5ba4-4580-f9e8-54d09271fd39"
      },
      "execution_count": null,
      "outputs": [
        {
          "output_type": "execute_result",
          "data": {
            "text/plain": [
              "(100, 4)"
            ]
          },
          "metadata": {},
          "execution_count": 24
        }
      ]
    },
    {
      "cell_type": "code",
      "source": [
        "model.fit(X_fake, y_fake_one_hot, epochs=50)"
      ],
      "metadata": {
        "colab": {
          "base_uri": "https://localhost:8080/"
        },
        "id": "8vqcVAJAzUB6",
        "outputId": "d48770c5-5358-4d3a-abbd-7e941786a3c4"
      },
      "execution_count": null,
      "outputs": [
        {
          "output_type": "stream",
          "name": "stdout",
          "text": [
            "Epoch 1/50\n",
            "\u001b[1m4/4\u001b[0m \u001b[32m━━━━━━━━━━━━━━━━━━━━\u001b[0m\u001b[37m\u001b[0m \u001b[1m0s\u001b[0m 3ms/step - accuracy: 0.4411 - loss: 1.0506 \n",
            "Epoch 2/50\n",
            "\u001b[1m4/4\u001b[0m \u001b[32m━━━━━━━━━━━━━━━━━━━━\u001b[0m\u001b[37m\u001b[0m \u001b[1m0s\u001b[0m 4ms/step - accuracy: 0.4064 - loss: 1.0601 \n",
            "Epoch 3/50\n",
            "\u001b[1m4/4\u001b[0m \u001b[32m━━━━━━━━━━━━━━━━━━━━\u001b[0m\u001b[37m\u001b[0m \u001b[1m0s\u001b[0m 4ms/step - accuracy: 0.4449 - loss: 1.0530 \n",
            "Epoch 4/50\n",
            "\u001b[1m4/4\u001b[0m \u001b[32m━━━━━━━━━━━━━━━━━━━━\u001b[0m\u001b[37m\u001b[0m \u001b[1m0s\u001b[0m 5ms/step - accuracy: 0.4491 - loss: 1.0464 \n",
            "Epoch 5/50\n",
            "\u001b[1m4/4\u001b[0m \u001b[32m━━━━━━━━━━━━━━━━━━━━\u001b[0m\u001b[37m\u001b[0m \u001b[1m0s\u001b[0m 5ms/step - accuracy: 0.4440 - loss: 1.0484 \n",
            "Epoch 6/50\n",
            "\u001b[1m4/4\u001b[0m \u001b[32m━━━━━━━━━━━━━━━━━━━━\u001b[0m\u001b[37m\u001b[0m \u001b[1m0s\u001b[0m 6ms/step - accuracy: 0.3923 - loss: 1.0573 \n",
            "Epoch 7/50\n",
            "\u001b[1m4/4\u001b[0m \u001b[32m━━━━━━━━━━━━━━━━━━━━\u001b[0m\u001b[37m\u001b[0m \u001b[1m0s\u001b[0m 4ms/step - accuracy: 0.4658 - loss: 1.0564  \n",
            "Epoch 8/50\n",
            "\u001b[1m4/4\u001b[0m \u001b[32m━━━━━━━━━━━━━━━━━━━━\u001b[0m\u001b[37m\u001b[0m \u001b[1m0s\u001b[0m 3ms/step - accuracy: 0.3921 - loss: 1.0648 \n",
            "Epoch 9/50\n",
            "\u001b[1m4/4\u001b[0m \u001b[32m━━━━━━━━━━━━━━━━━━━━\u001b[0m\u001b[37m\u001b[0m \u001b[1m0s\u001b[0m 4ms/step - accuracy: 0.4079 - loss: 1.0472 \n",
            "Epoch 10/50\n",
            "\u001b[1m4/4\u001b[0m \u001b[32m━━━━━━━━━━━━━━━━━━━━\u001b[0m\u001b[37m\u001b[0m \u001b[1m0s\u001b[0m 4ms/step - accuracy: 0.4223 - loss: 1.0475 \n",
            "Epoch 11/50\n",
            "\u001b[1m4/4\u001b[0m \u001b[32m━━━━━━━━━━━━━━━━━━━━\u001b[0m\u001b[37m\u001b[0m \u001b[1m0s\u001b[0m 4ms/step - accuracy: 0.4192 - loss: 1.0582 \n",
            "Epoch 12/50\n",
            "\u001b[1m4/4\u001b[0m \u001b[32m━━━━━━━━━━━━━━━━━━━━\u001b[0m\u001b[37m\u001b[0m \u001b[1m0s\u001b[0m 4ms/step - accuracy: 0.4090 - loss: 1.0546 \n",
            "Epoch 13/50\n",
            "\u001b[1m4/4\u001b[0m \u001b[32m━━━━━━━━━━━━━━━━━━━━\u001b[0m\u001b[37m\u001b[0m \u001b[1m0s\u001b[0m 4ms/step - accuracy: 0.4303 - loss: 1.0485 \n",
            "Epoch 14/50\n",
            "\u001b[1m4/4\u001b[0m \u001b[32m━━━━━━━━━━━━━━━━━━━━\u001b[0m\u001b[37m\u001b[0m \u001b[1m0s\u001b[0m 4ms/step - accuracy: 0.4128 - loss: 1.0458 \n",
            "Epoch 15/50\n",
            "\u001b[1m4/4\u001b[0m \u001b[32m━━━━━━━━━━━━━━━━━━━━\u001b[0m\u001b[37m\u001b[0m \u001b[1m0s\u001b[0m 3ms/step - accuracy: 0.4312 - loss: 1.0612 \n",
            "Epoch 16/50\n",
            "\u001b[1m4/4\u001b[0m \u001b[32m━━━━━━━━━━━━━━━━━━━━\u001b[0m\u001b[37m\u001b[0m \u001b[1m0s\u001b[0m 4ms/step - accuracy: 0.4697 - loss: 1.0551 \n",
            "Epoch 17/50\n",
            "\u001b[1m4/4\u001b[0m \u001b[32m━━━━━━━━━━━━━━━━━━━━\u001b[0m\u001b[37m\u001b[0m \u001b[1m0s\u001b[0m 3ms/step - accuracy: 0.4416 - loss: 1.0634 \n",
            "Epoch 18/50\n",
            "\u001b[1m4/4\u001b[0m \u001b[32m━━━━━━━━━━━━━━━━━━━━\u001b[0m\u001b[37m\u001b[0m \u001b[1m0s\u001b[0m 4ms/step - accuracy: 0.4147 - loss: 1.0513 \n",
            "Epoch 19/50\n",
            "\u001b[1m4/4\u001b[0m \u001b[32m━━━━━━━━━━━━━━━━━━━━\u001b[0m\u001b[37m\u001b[0m \u001b[1m0s\u001b[0m 5ms/step - accuracy: 0.4317 - loss: 1.0427 \n",
            "Epoch 20/50\n",
            "\u001b[1m4/4\u001b[0m \u001b[32m━━━━━━━━━━━━━━━━━━━━\u001b[0m\u001b[37m\u001b[0m \u001b[1m0s\u001b[0m 4ms/step - accuracy: 0.4553 - loss: 1.0420 \n",
            "Epoch 21/50\n",
            "\u001b[1m4/4\u001b[0m \u001b[32m━━━━━━━━━━━━━━━━━━━━\u001b[0m\u001b[37m\u001b[0m \u001b[1m0s\u001b[0m 5ms/step - accuracy: 0.4357 - loss: 1.0429 \n",
            "Epoch 22/50\n",
            "\u001b[1m4/4\u001b[0m \u001b[32m━━━━━━━━━━━━━━━━━━━━\u001b[0m\u001b[37m\u001b[0m \u001b[1m0s\u001b[0m 5ms/step - accuracy: 0.4145 - loss: 1.0624 \n",
            "Epoch 23/50\n",
            "\u001b[1m4/4\u001b[0m \u001b[32m━━━━━━━━━━━━━━━━━━━━\u001b[0m\u001b[37m\u001b[0m \u001b[1m0s\u001b[0m 4ms/step - accuracy: 0.4322 - loss: 1.0477 \n",
            "Epoch 24/50\n",
            "\u001b[1m4/4\u001b[0m \u001b[32m━━━━━━━━━━━━━━━━━━━━\u001b[0m\u001b[37m\u001b[0m \u001b[1m0s\u001b[0m 4ms/step - accuracy: 0.4677 - loss: 1.0439 \n",
            "Epoch 25/50\n",
            "\u001b[1m4/4\u001b[0m \u001b[32m━━━━━━━━━━━━━━━━━━━━\u001b[0m\u001b[37m\u001b[0m \u001b[1m0s\u001b[0m 4ms/step - accuracy: 0.4529 - loss: 1.0525 \n",
            "Epoch 26/50\n",
            "\u001b[1m4/4\u001b[0m \u001b[32m━━━━━━━━━━━━━━━━━━━━\u001b[0m\u001b[37m\u001b[0m \u001b[1m0s\u001b[0m 5ms/step - accuracy: 0.4529 - loss: 1.0405 \n",
            "Epoch 27/50\n",
            "\u001b[1m4/4\u001b[0m \u001b[32m━━━━━━━━━━━━━━━━━━━━\u001b[0m\u001b[37m\u001b[0m \u001b[1m0s\u001b[0m 4ms/step - accuracy: 0.4154 - loss: 1.0520 \n",
            "Epoch 28/50\n",
            "\u001b[1m4/4\u001b[0m \u001b[32m━━━━━━━━━━━━━━━━━━━━\u001b[0m\u001b[37m\u001b[0m \u001b[1m0s\u001b[0m 5ms/step - accuracy: 0.4324 - loss: 1.0430 \n",
            "Epoch 29/50\n",
            "\u001b[1m4/4\u001b[0m \u001b[32m━━━━━━━━━━━━━━━━━━━━\u001b[0m\u001b[37m\u001b[0m \u001b[1m0s\u001b[0m 5ms/step - accuracy: 0.4564 - loss: 1.0374 \n",
            "Epoch 30/50\n",
            "\u001b[1m4/4\u001b[0m \u001b[32m━━━━━━━━━━━━━━━━━━━━\u001b[0m\u001b[37m\u001b[0m \u001b[1m0s\u001b[0m 4ms/step - accuracy: 0.4842 - loss: 1.0311 \n",
            "Epoch 31/50\n",
            "\u001b[1m4/4\u001b[0m \u001b[32m━━━━━━━━━━━━━━━━━━━━\u001b[0m\u001b[37m\u001b[0m \u001b[1m0s\u001b[0m 4ms/step - accuracy: 0.4354 - loss: 1.0463 \n",
            "Epoch 32/50\n",
            "\u001b[1m4/4\u001b[0m \u001b[32m━━━━━━━━━━━━━━━━━━━━\u001b[0m\u001b[37m\u001b[0m \u001b[1m0s\u001b[0m 4ms/step - accuracy: 0.4359 - loss: 1.0430 \n",
            "Epoch 33/50\n",
            "\u001b[1m4/4\u001b[0m \u001b[32m━━━━━━━━━━━━━━━━━━━━\u001b[0m\u001b[37m\u001b[0m \u001b[1m0s\u001b[0m 4ms/step - accuracy: 0.4034 - loss: 1.0408 \n",
            "Epoch 34/50\n",
            "\u001b[1m4/4\u001b[0m \u001b[32m━━━━━━━━━━━━━━━━━━━━\u001b[0m\u001b[37m\u001b[0m \u001b[1m0s\u001b[0m 4ms/step - accuracy: 0.4263 - loss: 1.0499 \n",
            "Epoch 35/50\n",
            "\u001b[1m4/4\u001b[0m \u001b[32m━━━━━━━━━━━━━━━━━━━━\u001b[0m\u001b[37m\u001b[0m \u001b[1m0s\u001b[0m 4ms/step - accuracy: 0.3888 - loss: 1.0479 \n",
            "Epoch 36/50\n",
            "\u001b[1m4/4\u001b[0m \u001b[32m━━━━━━━━━━━━━━━━━━━━\u001b[0m\u001b[37m\u001b[0m \u001b[1m0s\u001b[0m 7ms/step - accuracy: 0.4262 - loss: 1.0412 \n",
            "Epoch 37/50\n",
            "\u001b[1m4/4\u001b[0m \u001b[32m━━━━━━━━━━━━━━━━━━━━\u001b[0m\u001b[37m\u001b[0m \u001b[1m0s\u001b[0m 6ms/step - accuracy: 0.4312 - loss: 1.0396 \n",
            "Epoch 38/50\n",
            "\u001b[1m4/4\u001b[0m \u001b[32m━━━━━━━━━━━━━━━━━━━━\u001b[0m\u001b[37m\u001b[0m \u001b[1m0s\u001b[0m 5ms/step - accuracy: 0.4406 - loss: 1.0459 \n",
            "Epoch 39/50\n",
            "\u001b[1m4/4\u001b[0m \u001b[32m━━━━━━━━━━━━━━━━━━━━\u001b[0m\u001b[37m\u001b[0m \u001b[1m0s\u001b[0m 5ms/step - accuracy: 0.4241 - loss: 1.0385 \n",
            "Epoch 40/50\n",
            "\u001b[1m4/4\u001b[0m \u001b[32m━━━━━━━━━━━━━━━━━━━━\u001b[0m\u001b[37m\u001b[0m \u001b[1m0s\u001b[0m 5ms/step - accuracy: 0.4324 - loss: 1.0373 \n",
            "Epoch 41/50\n",
            "\u001b[1m4/4\u001b[0m \u001b[32m━━━━━━━━━━━━━━━━━━━━\u001b[0m\u001b[37m\u001b[0m \u001b[1m0s\u001b[0m 5ms/step - accuracy: 0.4439 - loss: 1.0390 \n",
            "Epoch 42/50\n",
            "\u001b[1m4/4\u001b[0m \u001b[32m━━━━━━━━━━━━━━━━━━━━\u001b[0m\u001b[37m\u001b[0m \u001b[1m0s\u001b[0m 4ms/step - accuracy: 0.4532 - loss: 1.0400 \n",
            "Epoch 43/50\n",
            "\u001b[1m4/4\u001b[0m \u001b[32m━━━━━━━━━━━━━━━━━━━━\u001b[0m\u001b[37m\u001b[0m \u001b[1m0s\u001b[0m 3ms/step - accuracy: 0.4222 - loss: 1.0406 \n",
            "Epoch 44/50\n",
            "\u001b[1m4/4\u001b[0m \u001b[32m━━━━━━━━━━━━━━━━━━━━\u001b[0m\u001b[37m\u001b[0m \u001b[1m0s\u001b[0m 3ms/step - accuracy: 0.4265 - loss: 1.0377 \n",
            "Epoch 45/50\n",
            "\u001b[1m4/4\u001b[0m \u001b[32m━━━━━━━━━━━━━━━━━━━━\u001b[0m\u001b[37m\u001b[0m \u001b[1m0s\u001b[0m 3ms/step - accuracy: 0.4182 - loss: 1.0353 \n",
            "Epoch 46/50\n",
            "\u001b[1m4/4\u001b[0m \u001b[32m━━━━━━━━━━━━━━━━━━━━\u001b[0m\u001b[37m\u001b[0m \u001b[1m0s\u001b[0m 3ms/step - accuracy: 0.4576 - loss: 1.0287 \n",
            "Epoch 47/50\n",
            "\u001b[1m4/4\u001b[0m \u001b[32m━━━━━━━━━━━━━━━━━━━━\u001b[0m\u001b[37m\u001b[0m \u001b[1m0s\u001b[0m 3ms/step - accuracy: 0.4420 - loss: 1.0349 \n",
            "Epoch 48/50\n",
            "\u001b[1m4/4\u001b[0m \u001b[32m━━━━━━━━━━━━━━━━━━━━\u001b[0m\u001b[37m\u001b[0m \u001b[1m0s\u001b[0m 4ms/step - accuracy: 0.4041 - loss: 1.0464 \n",
            "Epoch 49/50\n",
            "\u001b[1m4/4\u001b[0m \u001b[32m━━━━━━━━━━━━━━━━━━━━\u001b[0m\u001b[37m\u001b[0m \u001b[1m0s\u001b[0m 3ms/step - accuracy: 0.4357 - loss: 1.0285 \n",
            "Epoch 50/50\n",
            "\u001b[1m4/4\u001b[0m \u001b[32m━━━━━━━━━━━━━━━━━━━━\u001b[0m\u001b[37m\u001b[0m \u001b[1m0s\u001b[0m 3ms/step - accuracy: 0.4532 - loss: 1.0276 \n"
          ]
        },
        {
          "output_type": "execute_result",
          "data": {
            "text/plain": [
              "<keras.src.callbacks.history.History at 0x7fa7115428c0>"
            ]
          },
          "metadata": {},
          "execution_count": 28
        }
      ]
    },
    {
      "cell_type": "markdown",
      "source": [
        "# exercice 2: classification des images cat/dog"
      ],
      "metadata": {
        "id": "pYQw0K4W17Wn"
      }
    },
    {
      "cell_type": "code",
      "execution_count": null,
      "metadata": {
        "id": "tYmaPDLsZ5bu"
      },
      "outputs": [],
      "source": [
        "import numpy as np\n",
        "import tensorflow as tf\n",
        "from tensorflow.keras.models import Sequential\n",
        "from tensorflow.keras.layers import Dense, Flatten\n",
        "from tensorflow.keras.optimizers import Adam\n",
        "from tensorflow.keras.utils import to_categorical\n",
        "from sklearn.model_selection import train_test_split\n",
        "from sklearn.preprocessing import StandardScaler\n",
        "from tensorflow.keras.preprocessing.image import ImageDataGenerator\n"
      ]
    },
    {
      "cell_type": "code",
      "source": [
        "import tensorflow_datasets as tfds\n",
        "\n",
        "# Define a function to resize images pour les images couleurs\n",
        "def resize_image(image, label):\n",
        "    image = tf.image.resize(image, (64, 64))  # Resize to 64x64\n",
        "    # Normalize pixel values to the range [0, 1]\n",
        "    image = tf.cast(image, tf.float32) / 255.0\n",
        "    return image, label\n",
        "# Define a function to resize and preprocess images\n",
        "def preprocess_image(image, label):\n",
        "    image = tf.image.resize(image, (64, 64))  # Resize to 64x64\n",
        "    image = tf.image.rgb_to_grayscale(image)  # Convert to grayscale\n",
        "    image = tf.cast(image, tf.float32) / 255.0  # Normalize pixel values to the range [0, 1]\n",
        "    image = tf.reshape(image, (64 * 64,))  # Flatten the image, using (64 * 64,) as the shape\n",
        "    return image, label\n",
        "\n",
        "# Charger et diviser le dataset en train (70%), dev (15%) et test (15%)\n",
        "(train_data, dev_data, test_data), dataset_info = tfds.load(\n",
        "    'cats_vs_dogs',\n",
        "    split=['train[:70%]', 'train[70%:85%]', 'train[85%:]'],  # 70% train, 15% dev, 15% test\n",
        "    shuffle_files=True,\n",
        "    as_supervised=True,\n",
        "    with_info=True,\n",
        ")"
      ],
      "metadata": {
        "colab": {
          "base_uri": "https://localhost:8080/",
          "height": 153,
          "referenced_widgets": [
            "c17fde7691fc4e479c749c3fface66b7",
            "5b21a3200e01471a8639774faa093eca",
            "5163752db5664eb9a176f1f89755d90f",
            "faed435489b445f6b65e40a1aacb40e6",
            "22c6cbfa68224b6aa754a6dc2fc4a4d1",
            "7c026a57ecf846bd8a511d0a90709f34",
            "9404d0a7f96c4714b001ac49556c9129",
            "c328422b552d48d58ca1f324d702f00c",
            "0f0f9c6f40e14cf8a5915ba3412f8c7b",
            "ce589f34fcc6493aa3fef701276c1fc4",
            "28f61c58c1414cf6b6f3fccf9b166692",
            "5eb7affe1dad48418b913476b8b77a80",
            "6c0d6f8b02e54ca18f3b72bbf861cf9c",
            "32598b1eaf884b98985bbb53cfada21a",
            "742a75014f794c608538329d4e46baab",
            "c85fd8dfb7af45b28e66b30fbce4a595",
            "cda446a51b6f4788b4705e32ac2424ac",
            "3ddca2a7ab5c4e76a822ced311f91877",
            "908a582e91644a3aa9ee0da7d303ff6b",
            "f3d2be9218e94a5e93d7c837e4e5a431",
            "c59468f110e74509896ffe6d2ede2ea8",
            "3e940b4937814a9d83ab4e9f5f864bf6",
            "5c53d78d643f414daa1dbeb3df145969",
            "2970e6a292964b88a633f12c5f771950",
            "3cac0b2a75074d7181336b3f04dd6e97",
            "de65fa1af3774019904c7f13793cc66c",
            "fc96e88dbe594fbeacf42b4544a7748f",
            "04fb9a056bb244bdbeea05d14aa48263",
            "ad720ffef7ab4a338a272f6d37de02c7",
            "ff303776706247e78a784d8013f63155",
            "bc5c241d2e604cd1b1af4b8558f3e3fb",
            "32c3923f3d5c49a5b26a69de22e9075f",
            "3d1c02d418f84395bf866dc53311060b",
            "ac69b1117fe24e7ab95a854ed56a5297",
            "5dba691edb6c4d2a868146a72dfad0d1",
            "c70aa39e64ce448c856623eb2fcce69e",
            "95c2075e7933485b8196fa9bbfefafb7",
            "75b5e034e2934269918baa4e29b33f6c",
            "38d981ae2d45462db58c3e2559490446",
            "be0c3452c26d4a8ab2fa3fe6cfebab09",
            "3ff106ba184843de9e2d183e1e9535d0",
            "65d6cc97772344acae424c82ed8644da",
            "bf4a8ebadf124636993aa3c56b14509a",
            "62496950150a49319e18155e85f95c4d",
            "4798d9c6ddde41079b7802877aabad0d",
            "84c64ee3b7024db082d7023433532e8b",
            "ef0dea7ae7d047daaa906a3d985a7f3f",
            "6e9ee513cc814f8bb7628553f0cc1e2c",
            "d2c1b9b6f6c844e4ab25007a05a5292d",
            "159634f2488d440a95be0f988cac9415",
            "b4bb7ace82544f069c055f779bbd6490",
            "064d526332294e1c9fe6733ac9a7284f",
            "d8b7ecb9f41a4ddf9a51c1a8d5d7ae7f",
            "70b378001fec486bb0b256b13c1ed374",
            "9fc27fa133e9459c9cb61a0bd857cd39"
          ]
        },
        "id": "VkqQYDvmaLid",
        "outputId": "66d5ef65-8361-4de7-fef5-5c78d31d4f98"
      },
      "execution_count": null,
      "outputs": [
        {
          "output_type": "stream",
          "name": "stdout",
          "text": [
            "Downloading and preparing dataset 786.67 MiB (download: 786.67 MiB, generated: 1.04 GiB, total: 1.81 GiB) to /root/tensorflow_datasets/cats_vs_dogs/4.0.1...\n"
          ]
        },
        {
          "output_type": "display_data",
          "data": {
            "text/plain": [
              "Dl Completed...: 0 url [00:00, ? url/s]"
            ],
            "application/vnd.jupyter.widget-view+json": {
              "version_major": 2,
              "version_minor": 0,
              "model_id": "c17fde7691fc4e479c749c3fface66b7"
            }
          },
          "metadata": {}
        },
        {
          "output_type": "display_data",
          "data": {
            "text/plain": [
              "Dl Size...: 0 MiB [00:00, ? MiB/s]"
            ],
            "application/vnd.jupyter.widget-view+json": {
              "version_major": 2,
              "version_minor": 0,
              "model_id": "5eb7affe1dad48418b913476b8b77a80"
            }
          },
          "metadata": {}
        },
        {
          "output_type": "display_data",
          "data": {
            "text/plain": [
              "Generating splits...:   0%|          | 0/1 [00:00<?, ? splits/s]"
            ],
            "application/vnd.jupyter.widget-view+json": {
              "version_major": 2,
              "version_minor": 0,
              "model_id": "5c53d78d643f414daa1dbeb3df145969"
            }
          },
          "metadata": {}
        },
        {
          "output_type": "display_data",
          "data": {
            "text/plain": [
              "Generating train examples...:   0%|          | 0/23262 [00:00<?, ? examples/s]"
            ],
            "application/vnd.jupyter.widget-view+json": {
              "version_major": 2,
              "version_minor": 0,
              "model_id": "ac69b1117fe24e7ab95a854ed56a5297"
            }
          },
          "metadata": {}
        },
        {
          "output_type": "stream",
          "name": "stderr",
          "text": [
            "WARNING:absl:1738 images were corrupted and were skipped\n"
          ]
        },
        {
          "output_type": "display_data",
          "data": {
            "text/plain": [
              "Shuffling /root/tensorflow_datasets/cats_vs_dogs/incomplete.YGQLPF_4.0.1/cats_vs_dogs-train.tfrecord*...:   0%…"
            ],
            "application/vnd.jupyter.widget-view+json": {
              "version_major": 2,
              "version_minor": 0,
              "model_id": "4798d9c6ddde41079b7802877aabad0d"
            }
          },
          "metadata": {}
        },
        {
          "output_type": "stream",
          "name": "stdout",
          "text": [
            "Dataset cats_vs_dogs downloaded and prepared to /root/tensorflow_datasets/cats_vs_dogs/4.0.1. Subsequent calls will reuse this data.\n"
          ]
        }
      ]
    },
    {
      "cell_type": "code",
      "source": [
        "# Optionnel : Afficher quelques exemples du dataset\n",
        "for image, label in train_data.take(5):\n",
        "    print(f\"Image shape: {image.shape}\")\n",
        "    print(f\"Label: {label}\")"
      ],
      "metadata": {
        "colab": {
          "base_uri": "https://localhost:8080/"
        },
        "id": "ZSpQU3Opb3K8",
        "outputId": "2cb3668f-9cdb-4d58-db7b-6af562b0e7ed"
      },
      "execution_count": null,
      "outputs": [
        {
          "output_type": "stream",
          "name": "stdout",
          "text": [
            "Image shape: (445, 471, 3)\n",
            "Label: 1\n",
            "Image shape: (375, 500, 3)\n",
            "Label: 0\n",
            "Image shape: (330, 500, 3)\n",
            "Label: 1\n",
            "Image shape: (371, 500, 3)\n",
            "Label: 1\n",
            "Image shape: (300, 350, 3)\n",
            "Label: 0\n"
          ]
        }
      ]
    },
    {
      "cell_type": "code",
      "source": [
        "# Apply the resize function to the datasets\n",
        "train_data = train_data.map(preprocess_image).batch(8)\n",
        "dev_data = dev_data.map(preprocess_image).batch(8)\n",
        "test_data = test_data.map(preprocess_image).batch(8)"
      ],
      "metadata": {
        "id": "TrMJpldvke90"
      },
      "execution_count": null,
      "outputs": []
    },
    {
      "cell_type": "code",
      "source": [
        "\n",
        "# Afficher le nombre d'exemples dans chaque ensemble\n",
        "print(f\"Nombre d'exemples dans le train : {train_data.cardinality().numpy()}\")\n",
        "print(f\"Nombre d'exemples dans le dev : {dev_data.cardinality().numpy()}\")\n",
        "print(f\"Nombre d'exemples dans le test : {test_data.cardinality().numpy()}\")\n"
      ],
      "metadata": {
        "colab": {
          "base_uri": "https://localhost:8080/"
        },
        "id": "uzB6Zr4bk1fL",
        "outputId": "46e3f69b-c8d8-4848-81d2-aa7db6c1ba52"
      },
      "execution_count": null,
      "outputs": [
        {
          "output_type": "stream",
          "name": "stdout",
          "text": [
            "Nombre d'exemples dans le train : 2036\n",
            "Nombre d'exemples dans le dev : 437\n",
            "Nombre d'exemples dans le test : 437\n"
          ]
        }
      ]
    },
    {
      "cell_type": "code",
      "source": [
        "train_data"
      ],
      "metadata": {
        "colab": {
          "base_uri": "https://localhost:8080/"
        },
        "id": "_ukTBTBZrMjk",
        "outputId": "bc9dfc0a-646a-4777-ec72-c2c3ea1534f3"
      },
      "execution_count": null,
      "outputs": [
        {
          "output_type": "execute_result",
          "data": {
            "text/plain": [
              "<_BatchDataset element_spec=(TensorSpec(shape=(None, 4096), dtype=tf.float32, name=None), TensorSpec(shape=(None,), dtype=tf.int64, name=None))>"
            ]
          },
          "metadata": {},
          "execution_count": 8
        }
      ]
    },
    {
      "cell_type": "code",
      "source": [
        "model = Sequential()\n",
        "\n",
        "# Applatir les images 64x64 en un vecteur\n",
        "model.add(Flatten(input_shape=(4096,)))\n",
        "\n",
        "# Couche cachée avec 128 neurones et une fonction d'activation ReLU\n",
        "model.add(Dense(128, activation='relu'))\n",
        "\n",
        "# Couche de sortie avec 1 neurone (pour la classification binaire) et une fonction d'activation sigmoïde\n",
        "model.add(Dense(1, activation='sigmoid'))\n",
        "\n",
        "# Compiler le modèle\n",
        "model.compile(optimizer=Adam(), loss='binary_crossentropy', metrics=['accuracy'])\n",
        "\n",
        "# Résumé du modèle\n",
        "model.summary()\n"
      ],
      "metadata": {
        "colab": {
          "base_uri": "https://localhost:8080/",
          "height": 293
        },
        "id": "objnWSU8aOvT",
        "outputId": "0d942e21-ca37-40ec-effb-ccacee86fbbf"
      },
      "execution_count": null,
      "outputs": [
        {
          "output_type": "stream",
          "name": "stderr",
          "text": [
            "/usr/local/lib/python3.10/dist-packages/keras/src/layers/reshaping/flatten.py:37: UserWarning: Do not pass an `input_shape`/`input_dim` argument to a layer. When using Sequential models, prefer using an `Input(shape)` object as the first layer in the model instead.\n",
            "  super().__init__(**kwargs)\n"
          ]
        },
        {
          "output_type": "display_data",
          "data": {
            "text/plain": [
              "\u001b[1mModel: \"sequential\"\u001b[0m\n"
            ],
            "text/html": [
              "<pre style=\"white-space:pre;overflow-x:auto;line-height:normal;font-family:Menlo,'DejaVu Sans Mono',consolas,'Courier New',monospace\"><span style=\"font-weight: bold\">Model: \"sequential\"</span>\n",
              "</pre>\n"
            ]
          },
          "metadata": {}
        },
        {
          "output_type": "display_data",
          "data": {
            "text/plain": [
              "┏━━━━━━━━━━━━━━━━━━━━━━━━━━━━━━━━━━━━━━┳━━━━━━━━━━━━━━━━━━━━━━━━━━━━━┳━━━━━━━━━━━━━━━━━┓\n",
              "┃\u001b[1m \u001b[0m\u001b[1mLayer (type)                        \u001b[0m\u001b[1m \u001b[0m┃\u001b[1m \u001b[0m\u001b[1mOutput Shape               \u001b[0m\u001b[1m \u001b[0m┃\u001b[1m \u001b[0m\u001b[1m        Param #\u001b[0m\u001b[1m \u001b[0m┃\n",
              "┡━━━━━━━━━━━━━━━━━━━━━━━━━━━━━━━━━━━━━━╇━━━━━━━━━━━━━━━━━━━━━━━━━━━━━╇━━━━━━━━━━━━━━━━━┩\n",
              "│ flatten (\u001b[38;5;33mFlatten\u001b[0m)                    │ (\u001b[38;5;45mNone\u001b[0m, \u001b[38;5;34m4096\u001b[0m)                │               \u001b[38;5;34m0\u001b[0m │\n",
              "├──────────────────────────────────────┼─────────────────────────────┼─────────────────┤\n",
              "│ dense (\u001b[38;5;33mDense\u001b[0m)                        │ (\u001b[38;5;45mNone\u001b[0m, \u001b[38;5;34m128\u001b[0m)                 │         \u001b[38;5;34m524,416\u001b[0m │\n",
              "├──────────────────────────────────────┼─────────────────────────────┼─────────────────┤\n",
              "│ dense_1 (\u001b[38;5;33mDense\u001b[0m)                      │ (\u001b[38;5;45mNone\u001b[0m, \u001b[38;5;34m1\u001b[0m)                   │             \u001b[38;5;34m129\u001b[0m │\n",
              "└──────────────────────────────────────┴─────────────────────────────┴─────────────────┘\n"
            ],
            "text/html": [
              "<pre style=\"white-space:pre;overflow-x:auto;line-height:normal;font-family:Menlo,'DejaVu Sans Mono',consolas,'Courier New',monospace\">┏━━━━━━━━━━━━━━━━━━━━━━━━━━━━━━━━━━━━━━┳━━━━━━━━━━━━━━━━━━━━━━━━━━━━━┳━━━━━━━━━━━━━━━━━┓\n",
              "┃<span style=\"font-weight: bold\"> Layer (type)                         </span>┃<span style=\"font-weight: bold\"> Output Shape                </span>┃<span style=\"font-weight: bold\">         Param # </span>┃\n",
              "┡━━━━━━━━━━━━━━━━━━━━━━━━━━━━━━━━━━━━━━╇━━━━━━━━━━━━━━━━━━━━━━━━━━━━━╇━━━━━━━━━━━━━━━━━┩\n",
              "│ flatten (<span style=\"color: #0087ff; text-decoration-color: #0087ff\">Flatten</span>)                    │ (<span style=\"color: #00d7ff; text-decoration-color: #00d7ff\">None</span>, <span style=\"color: #00af00; text-decoration-color: #00af00\">4096</span>)                │               <span style=\"color: #00af00; text-decoration-color: #00af00\">0</span> │\n",
              "├──────────────────────────────────────┼─────────────────────────────┼─────────────────┤\n",
              "│ dense (<span style=\"color: #0087ff; text-decoration-color: #0087ff\">Dense</span>)                        │ (<span style=\"color: #00d7ff; text-decoration-color: #00d7ff\">None</span>, <span style=\"color: #00af00; text-decoration-color: #00af00\">128</span>)                 │         <span style=\"color: #00af00; text-decoration-color: #00af00\">524,416</span> │\n",
              "├──────────────────────────────────────┼─────────────────────────────┼─────────────────┤\n",
              "│ dense_1 (<span style=\"color: #0087ff; text-decoration-color: #0087ff\">Dense</span>)                      │ (<span style=\"color: #00d7ff; text-decoration-color: #00d7ff\">None</span>, <span style=\"color: #00af00; text-decoration-color: #00af00\">1</span>)                   │             <span style=\"color: #00af00; text-decoration-color: #00af00\">129</span> │\n",
              "└──────────────────────────────────────┴─────────────────────────────┴─────────────────┘\n",
              "</pre>\n"
            ]
          },
          "metadata": {}
        },
        {
          "output_type": "display_data",
          "data": {
            "text/plain": [
              "\u001b[1m Total params: \u001b[0m\u001b[38;5;34m524,545\u001b[0m (2.00 MB)\n"
            ],
            "text/html": [
              "<pre style=\"white-space:pre;overflow-x:auto;line-height:normal;font-family:Menlo,'DejaVu Sans Mono',consolas,'Courier New',monospace\"><span style=\"font-weight: bold\"> Total params: </span><span style=\"color: #00af00; text-decoration-color: #00af00\">524,545</span> (2.00 MB)\n",
              "</pre>\n"
            ]
          },
          "metadata": {}
        },
        {
          "output_type": "display_data",
          "data": {
            "text/plain": [
              "\u001b[1m Trainable params: \u001b[0m\u001b[38;5;34m524,545\u001b[0m (2.00 MB)\n"
            ],
            "text/html": [
              "<pre style=\"white-space:pre;overflow-x:auto;line-height:normal;font-family:Menlo,'DejaVu Sans Mono',consolas,'Courier New',monospace\"><span style=\"font-weight: bold\"> Trainable params: </span><span style=\"color: #00af00; text-decoration-color: #00af00\">524,545</span> (2.00 MB)\n",
              "</pre>\n"
            ]
          },
          "metadata": {}
        },
        {
          "output_type": "display_data",
          "data": {
            "text/plain": [
              "\u001b[1m Non-trainable params: \u001b[0m\u001b[38;5;34m0\u001b[0m (0.00 B)\n"
            ],
            "text/html": [
              "<pre style=\"white-space:pre;overflow-x:auto;line-height:normal;font-family:Menlo,'DejaVu Sans Mono',consolas,'Courier New',monospace\"><span style=\"font-weight: bold\"> Non-trainable params: </span><span style=\"color: #00af00; text-decoration-color: #00af00\">0</span> (0.00 B)\n",
              "</pre>\n"
            ]
          },
          "metadata": {}
        }
      ]
    },
    {
      "cell_type": "code",
      "source": [
        "history = model.fit(train_data, epochs=10, validation_data=dev_data)\n"
      ],
      "metadata": {
        "colab": {
          "base_uri": "https://localhost:8080/"
        },
        "id": "wcaE0e13aTis",
        "outputId": "014b2ef3-39f0-435c-d956-0b54447be4fb"
      },
      "execution_count": null,
      "outputs": [
        {
          "output_type": "stream",
          "name": "stdout",
          "text": [
            "Epoch 1/10\n",
            "\u001b[1m2036/2036\u001b[0m \u001b[32m━━━━━━━━━━━━━━━━━━━━\u001b[0m\u001b[37m\u001b[0m \u001b[1m29s\u001b[0m 13ms/step - accuracy: 0.5369 - loss: 0.7685 - val_accuracy: 0.5819 - val_loss: 0.6746\n",
            "Epoch 2/10\n",
            "\u001b[1m2036/2036\u001b[0m \u001b[32m━━━━━━━━━━━━━━━━━━━━\u001b[0m\u001b[37m\u001b[0m \u001b[1m33s\u001b[0m 16ms/step - accuracy: 0.5830 - loss: 0.6738 - val_accuracy: 0.5897 - val_loss: 0.6651\n",
            "Epoch 3/10\n",
            "\u001b[1m2036/2036\u001b[0m \u001b[32m━━━━━━━━━━━━━━━━━━━━\u001b[0m\u001b[37m\u001b[0m \u001b[1m24s\u001b[0m 12ms/step - accuracy: 0.5915 - loss: 0.6646 - val_accuracy: 0.5971 - val_loss: 0.6647\n",
            "Epoch 4/10\n",
            "\u001b[1m2036/2036\u001b[0m \u001b[32m━━━━━━━━━━━━━━━━━━━━\u001b[0m\u001b[37m\u001b[0m \u001b[1m26s\u001b[0m 13ms/step - accuracy: 0.6050 - loss: 0.6589 - val_accuracy: 0.5960 - val_loss: 0.6635\n",
            "Epoch 5/10\n",
            "\u001b[1m2036/2036\u001b[0m \u001b[32m━━━━━━━━━━━━━━━━━━━━\u001b[0m\u001b[37m\u001b[0m \u001b[1m39s\u001b[0m 12ms/step - accuracy: 0.6091 - loss: 0.6563 - val_accuracy: 0.5997 - val_loss: 0.6624\n",
            "Epoch 6/10\n",
            "\u001b[1m2036/2036\u001b[0m \u001b[32m━━━━━━━━━━━━━━━━━━━━\u001b[0m\u001b[37m\u001b[0m \u001b[1m25s\u001b[0m 12ms/step - accuracy: 0.6171 - loss: 0.6518 - val_accuracy: 0.6023 - val_loss: 0.6610\n",
            "Epoch 7/10\n",
            "\u001b[1m2036/2036\u001b[0m \u001b[32m━━━━━━━━━━━━━━━━━━━━\u001b[0m\u001b[37m\u001b[0m \u001b[1m25s\u001b[0m 12ms/step - accuracy: 0.6235 - loss: 0.6478 - val_accuracy: 0.5974 - val_loss: 0.6606\n",
            "Epoch 8/10\n",
            "\u001b[1m2036/2036\u001b[0m \u001b[32m━━━━━━━━━━━━━━━━━━━━\u001b[0m\u001b[37m\u001b[0m \u001b[1m25s\u001b[0m 12ms/step - accuracy: 0.6237 - loss: 0.6439 - val_accuracy: 0.6052 - val_loss: 0.6590\n",
            "Epoch 9/10\n",
            "\u001b[1m2036/2036\u001b[0m \u001b[32m━━━━━━━━━━━━━━━━━━━━\u001b[0m\u001b[37m\u001b[0m \u001b[1m22s\u001b[0m 11ms/step - accuracy: 0.6250 - loss: 0.6435 - val_accuracy: 0.6003 - val_loss: 0.6595\n",
            "Epoch 10/10\n",
            "\u001b[1m2036/2036\u001b[0m \u001b[32m━━━━━━━━━━━━━━━━━━━━\u001b[0m\u001b[37m\u001b[0m \u001b[1m43s\u001b[0m 12ms/step - accuracy: 0.6320 - loss: 0.6395 - val_accuracy: 0.5983 - val_loss: 0.6613\n"
          ]
        }
      ]
    },
    {
      "cell_type": "code",
      "source": [],
      "metadata": {
        "id": "R9uGSG8msTOn"
      },
      "execution_count": null,
      "outputs": []
    },
    {
      "cell_type": "code",
      "source": [
        "test_loss, test_acc = model.evaluate(test_data)\n",
        "print(f\"Test accuracy: {test_acc}\")\n"
      ],
      "metadata": {
        "colab": {
          "base_uri": "https://localhost:8080/"
        },
        "id": "hZxNgYA2aXUN",
        "outputId": "c0e19de4-31e5-492a-dcb9-6fcad7a1dc3a"
      },
      "execution_count": null,
      "outputs": [
        {
          "output_type": "stream",
          "name": "stdout",
          "text": [
            "\u001b[1m437/437\u001b[0m \u001b[32m━━━━━━━━━━━━━━━━━━━━\u001b[0m\u001b[37m\u001b[0m \u001b[1m4s\u001b[0m 9ms/step - accuracy: 0.6207 - loss: 0.6538\n",
            "Test accuracy: 0.6156491637229919\n"
          ]
        }
      ]
    },
    {
      "cell_type": "code",
      "source": [
        "import matplotlib.pyplot as plt\n",
        "\n",
        "# Tracer la courbe de perte\n",
        "plt.figure(figsize=(12, 4))\n",
        "\n",
        "# Courbe de perte\n",
        "plt.subplot(1, 2, 1)\n",
        "plt.plot(history.history['loss'], label='Perte d\\'entraînement')\n",
        "plt.plot(history.history['val_loss'], label='Perte de validation')\n",
        "plt.title('Courbe de perte')\n",
        "plt.xlabel('Époques')\n",
        "plt.ylabel('Perte')\n",
        "plt.legend()\n",
        "\n",
        "# Courbe de précision\n",
        "plt.subplot(1, 2, 2)\n",
        "plt.plot(history.history['accuracy'], label='Précision d\\'entraînement')\n",
        "plt.plot(history.history['val_accuracy'], label='Précision de validation')\n",
        "plt.title('Courbe de précision')\n",
        "plt.xlabel('Époques')\n",
        "plt.ylabel('Précision')\n",
        "plt.legend()\n",
        "\n",
        "# Afficher les graphiques\n",
        "plt.tight_layout()\n",
        "plt.show()\n"
      ],
      "metadata": {
        "colab": {
          "base_uri": "https://localhost:8080/",
          "height": 378
        },
        "id": "elAshnrJnHqw",
        "outputId": "73d76f9d-ce27-4bac-8d3a-fe340604edba"
      },
      "execution_count": null,
      "outputs": [
        {
          "output_type": "display_data",
          "data": {
            "text/plain": [
              "<Figure size 1200x400 with 2 Axes>"
            ],
            "image/png": "[encoded data removed]"
          },
          "metadata": {}
        }
      ]
    },
    {
      "cell_type": "code",
      "source": [],
      "metadata": {
        "id": "uUiENU3-tWDE"
      },
      "execution_count": null,
      "outputs": []
    },
    {
      "cell_type": "markdown",
      "source": [
        "## Dropout\n",
        "\n",
        "- from tensorflow.keras.layers import Dense, Dropout\n",
        "\n",
        "\n",
        "# couche cachée avec Dropout\n",
        "- model.add(Dense(64, input_dim=num_features, activation='relu'))\n",
        "- model.add(Dropout(0.3))  # Dropout à 30%"
      ],
      "metadata": {
        "id": "ZnimULQ43LaC"
      }
    },
    {
      "cell_type": "code",
      "source": [],
      "metadata": {
        "id": "JcXqUj293No1"
      },
      "execution_count": null,
      "outputs": []
    }
  ]
}